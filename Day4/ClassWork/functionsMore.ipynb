{
 "cells": [
  {
   "cell_type": "markdown",
   "metadata": {},
   "source": [
    "### Function returning another function"
   ]
  },
  {
   "cell_type": "code",
   "execution_count": 2,
   "metadata": {},
   "outputs": [
    {
     "name": "stdout",
     "output_type": "stream",
     "text": [
      "40000"
     ]
    },
    {
     "data": {
      "text/plain": [
       "defined \u001b[32mfunction\u001b[39m \u001b[36mgiveMeSquareFunc\u001b[39m"
      ]
     },
     "execution_count": 2,
     "metadata": {},
     "output_type": "execute_result"
    }
   ],
   "source": [
    "def giveMeSquareFunc(): (Int)=>Int = (x) => x*x\n",
    "\n",
    "print(giveMeSquareFunc()(200))"
   ]
  },
  {
   "cell_type": "code",
   "execution_count": 3,
   "metadata": {},
   "outputs": [
    {
     "name": "stdout",
     "output_type": "stream",
     "text": [
      "100"
     ]
    },
    {
     "data": {
      "text/plain": [
       "defined \u001b[32mfunction\u001b[39m \u001b[36mgiveMeDeepLogic\u001b[39m"
      ]
     },
     "execution_count": 3,
     "metadata": {},
     "output_type": "execute_result"
    }
   ],
   "source": [
    "def giveMeDeepLogic():()=>(Int)=>(Int) = giveMeSquareFunc\n",
    "\n",
    "print(giveMeDeepLogic()()(10))\n"
   ]
  },
  {
   "cell_type": "code",
   "execution_count": 4,
   "metadata": {},
   "outputs": [
    {
     "name": "stdout",
     "output_type": "stream",
     "text": [
      "27\n",
      "64\n",
      "125\n",
      "216\n"
     ]
    },
    {
     "data": {
      "text/plain": [
       "defined \u001b[32mfunction\u001b[39m \u001b[36mcube\u001b[39m\n",
       "defined \u001b[32mfunction\u001b[39m \u001b[36mgiveMeCubeFunc\u001b[39m\n",
       "defined \u001b[32mfunction\u001b[39m \u001b[36mgiveMeCubeFuncWithReturn\u001b[39m\n",
       "defined \u001b[32mfunction\u001b[39m \u001b[36mgiveMeComplexCube\u001b[39m\n",
       "defined \u001b[32mfunction\u001b[39m \u001b[36mgiveMeComplexSquareCube\u001b[39m"
      ]
     },
     "execution_count": 4,
     "metadata": {},
     "output_type": "execute_result"
    }
   ],
   "source": [
    "def cube(a:Int):Int = {\n",
    "    return a*a*a\n",
    "}\n",
    "// Note that below giveMeCubeFunc has no paranthesis,so when I am calling giveMeCubeFunc below ,I haven't added paranthesis for giveMeCubeFunc\n",
    "def giveMeCubeFunc:(Int)=>(Int)=cube \n",
    "\n",
    "def giveMeCubeFuncWithReturn():(Int)=>(Int) = cube \n",
    "\n",
    "def giveMeComplexCube():()=>(Int)=>(Int)=giveMeCubeFuncWithReturn\n",
    "\n",
    "def giveMeComplexSquareCube():()=>()=>(Int)=>(Int)=giveMeComplexCube\n",
    "\n",
    "\n",
    "\n",
    "println(giveMeCubeFunc(3))\n",
    "println(giveMeCubeFuncWithReturn()(4))\n",
    "println(giveMeComplexCube()()(5))\n",
    "println(giveMeComplexSquareCube()()()(6))\n"
   ]
  },
  {
   "cell_type": "code",
   "execution_count": 1,
   "metadata": {},
   "outputs": [
    {
     "name": "stdout",
     "output_type": "stream",
     "text": [
      "145"
     ]
    },
    {
     "data": {
      "text/plain": [
       "defined \u001b[32mfunction\u001b[39m \u001b[36maddHundred\u001b[39m\n",
       "defined \u001b[32mfunction\u001b[39m \u001b[36mcallAddHundred\u001b[39m"
      ]
     },
     "execution_count": 1,
     "metadata": {},
     "output_type": "execute_result"
    }
   ],
   "source": [
    "def addHundred(x:Int):Int =  x+100\n",
    "\n",
    "def callAddHundred(x:Int):Int = addHundred(x)\n",
    "\n",
    "print(callAddHundred(45))\n"
   ]
  },
  {
   "cell_type": "markdown",
   "metadata": {},
   "source": [
    "### Match Statement"
   ]
  },
  {
   "cell_type": "code",
   "execution_count": 6,
   "metadata": {},
   "outputs": [
    {
     "name": "stdout",
     "output_type": "stream",
     "text": [
      "146\n",
      "12\n",
      "-1\n"
     ]
    },
    {
     "data": {
      "text/plain": [
       "defined \u001b[32mfunction\u001b[39m \u001b[36mmatchFunc\u001b[39m"
      ]
     },
     "execution_count": 6,
     "metadata": {},
     "output_type": "execute_result"
    }
   ],
   "source": [
    "def matchFunc(ops:String):(Int,Int)=>Int = {\n",
    "    ops match{\n",
    "        case \"add\" =>(a,b)=>a+b\n",
    "        case \"mul\" =>(a,b)=>a*b\n",
    "        case \"sub\" =>(a,b)=>a-b\n",
    "        case _ =>(a,b)=> -1\n",
    "    }\n",
    "}\n",
    "println(matchFunc(\"add\")(57,89))\n",
    "println(matchFunc(\"mul\")(3,4))\n",
    "println(matchFunc(\"er\")(7,8))"
   ]
  },
  {
   "cell_type": "markdown",
   "metadata": {},
   "source": [
    "### Nested Functions"
   ]
  },
  {
   "cell_type": "code",
   "execution_count": 5,
   "metadata": {},
   "outputs": [
    {
     "name": "stdout",
     "output_type": "stream",
     "text": [
      "outerscope value is 42\n",
      "outerscope value is 120\n",
      "outerscope value is 210\n"
     ]
    },
    {
     "data": {
      "text/plain": [
       "defined \u001b[32mfunction\u001b[39m \u001b[36mwrapper\u001b[39m"
      ]
     },
     "execution_count": 5,
     "metadata": {},
     "output_type": "execute_result"
    }
   ],
   "source": [
    "def wrapper(outer:Int):Unit = {\n",
    "    var outerscope = outer\n",
    "    def inner(data:Int):Unit = {\n",
    "        outerscope+=data \n",
    "        println(s\"outerscope value is $outerscope\")\n",
    "    }\n",
    "    inner(36)\n",
    "    inner(78)\n",
    "    inner(90)\n",
    "}\n",
    "wrapper(6)"
   ]
  },
  {
   "cell_type": "code",
   "execution_count": 9,
   "metadata": {},
   "outputs": [
    {
     "name": "stdout",
     "output_type": "stream",
     "text": [
      "outerscope value is 134\n",
      "outerscope value is 200\n",
      "outerscope value is 300\n",
      "outerscope value is 10\n"
     ]
    },
    {
     "data": {
      "text/plain": [
       "defined \u001b[32mfunction\u001b[39m \u001b[36mwrapper_2\u001b[39m\n",
       "\u001b[36mnested\u001b[39m: \u001b[32mInt\u001b[39m => \u001b[32mString\u001b[39m = ammonite.$sess.cmd9$Helper$$Lambda/0x00007e0001a89128@336f8b1c\n",
       "\u001b[36mres9_2\u001b[39m: \u001b[32mString\u001b[39m = \u001b[32m\"Inner Finished\"\u001b[39m\n",
       "\u001b[36mres9_3\u001b[39m: \u001b[32mString\u001b[39m = \u001b[32m\"Inner Finished\"\u001b[39m\n",
       "\u001b[36mres9_4\u001b[39m: \u001b[32mString\u001b[39m = \u001b[32m\"Inner Finished\"\u001b[39m\n",
       "\u001b[36mres9_5\u001b[39m: \u001b[32mString\u001b[39m = \u001b[32m\"Inner Finished\"\u001b[39m"
      ]
     },
     "execution_count": 9,
     "metadata": {},
     "output_type": "execute_result"
    }
   ],
   "source": [
    "def wrapper_2(outer:Int):(Int)=>(String)= {\n",
    "    var outerscope = outer\n",
    "    def inner(data:Int):String = {\n",
    "        outerscope+=data \n",
    "        println(s\"outerscope value is $outerscope\")\n",
    "        return \"Inner Finished\"\n",
    "    }\n",
    "    return inner\n",
    "}\n",
    "val nested = wrapper_2(56)\n",
    "nested(78)\n",
    "nested(66)\n",
    "nested(100)\n",
    "wrapper_2(2)(8)"
   ]
  },
  {
   "cell_type": "code",
   "execution_count": 2,
   "metadata": {},
   "outputs": [
    {
     "name": "stdout",
     "output_type": "stream",
     "text": [
      "100\n"
     ]
    },
    {
     "data": {
      "text/plain": [
       "defined \u001b[32mfunction\u001b[39m \u001b[36mwrapper_3\u001b[39m\n",
       "\u001b[36mnested\u001b[39m: \u001b[32mInt\u001b[39m => \u001b[32mInt\u001b[39m => \u001b[32mInt\u001b[39m = ammonite.$sess.cmd2$Helper$$Lambda/0x000007f801aa2908@42bab2e6\n",
       "\u001b[36mnested_1\u001b[39m: \u001b[32mInt\u001b[39m => \u001b[32mInt\u001b[39m = ammonite.$sess.cmd2$Helper$$Lambda/0x000007f801aa2cd0@34f6de4c"
      ]
     },
     "execution_count": 2,
     "metadata": {},
     "output_type": "execute_result"
    }
   ],
   "source": [
    "def wrapper_3(outer:Int):(Int)=>((Int)=>(Int))= {\n",
    "    def inner_1(inner1:Int):(Int)=>(Int) = {\n",
    "        def inner_2(inner2:Int):(Int) = {\n",
    "            return outer*inner1*inner2\n",
    "        \n",
    "        }\n",
    "        return inner_2   \n",
    "    }\n",
    "    return inner_1\n",
    "   \n",
    "}\n",
    "val nested=wrapper_3(5)\n",
    "val nested_1 = nested(4)\n",
    "println(nested_1(5))\n"
   ]
  },
  {
   "cell_type": "code",
   "execution_count": 1,
   "metadata": {},
   "outputs": [
    {
     "name": "stdout",
     "output_type": "stream",
     "text": [
      "15\n",
      "info:Data15, n:India, p:India Today\n"
     ]
    },
    {
     "data": {
      "text/plain": [
       "defined \u001b[32mfunction\u001b[39m \u001b[36mfunction1\u001b[39m\n",
       "defined \u001b[32mfunction\u001b[39m \u001b[36mfunction2\u001b[39m"
      ]
     },
     "execution_count": 1,
     "metadata": {},
     "output_type": "execute_result"
    }
   ],
   "source": [
    "// def function_3(b:String):Unit = {\n",
    "//     println(b)\n",
    "// }\n",
    "\n",
    "// def function_1(a:Int,function_3:(String)=>Unit):Unit{\n",
    "//     println(\"In function_1\")\n",
    "//     for (i<-1 to a){\n",
    "//         function_3(\"India\")\n",
    "//     }\n",
    "//     println(\"done\")\n",
    "\n",
    "// }\n",
    "\n",
    "// def function_2(p:String):Unit = {\n",
    "//     val x = \"20\";\n",
    "//     function_1(3,function_3(x+p))\n",
    "\n",
    "    \n",
    "// }\n",
    "\n",
    "\n",
    "def function1(x:Int, fun:String=>Unit):Unit = {\n",
    "    println(x)\n",
    "    fun(\"Data\"+x)\n",
    "}\n",
    "\n",
    "def function2(p:String):Unit = {\n",
    "    val n:String=\"India\"\n",
    "    function1(15,(info)=>{\n",
    "        println(s\"info:$info, n:$n, p:$p\")\n",
    "    \n",
    "    })\n",
    "}\n",
    "function2(\"India Today\")\n",
    "\n",
    "\n",
    "\n",
    "// function_2(\"40\")"
   ]
  },
  {
   "cell_type": "markdown",
   "metadata": {},
   "source": [
    "### Currying"
   ]
  },
  {
   "cell_type": "code",
   "execution_count": 3,
   "metadata": {},
   "outputs": [
    {
     "name": "stdout",
     "output_type": "stream",
     "text": [
      "89\n"
     ]
    },
    {
     "data": {
      "text/plain": [
       "\u001b[36mmultiplyByTwo\u001b[39m: \u001b[32mInt\u001b[39m => \u001b[32mInt\u001b[39m = ammonite.$sess.cmd3$Helper$$Lambda/0x000007f801ad8000@62c78f28\n",
       "\u001b[36maddOne\u001b[39m: \u001b[32mInt\u001b[39m => \u001b[32mInt\u001b[39m = ammonite.$sess.cmd3$Helper$$Lambda/0x000007f801ad83e8@3bf5d768\n",
       "\u001b[36mresult\u001b[39m: \u001b[32mInt\u001b[39m => \u001b[32mInt\u001b[39m = scala.Function1$$Lambda/0x000007f801ad5848@1fd89e86"
      ]
     },
     "execution_count": 3,
     "metadata": {},
     "output_type": "execute_result"
    }
   ],
   "source": [
    "val multiplyByTwo = (x :Int) => x*2 \n",
    "val addOne = (x:Int) => x+1\n",
    "val result = multiplyByTwo andThen addOne \n",
    "println(result(44))\n"
   ]
  },
  {
   "cell_type": "code",
   "execution_count": 2,
   "metadata": {},
   "outputs": [
    {
     "name": "stdout",
     "output_type": "stream",
     "text": [
      "Baked cake ready for Strawberry Cream topping\n",
      "Added the Topping Strawberry Cream\n",
      "Baked pizza ready for Olives topping\n",
      "Added the Topping Olives\n"
     ]
    },
    {
     "data": {
      "text/plain": [
       "\u001b[36maddTopping\u001b[39m: \u001b[32mString\u001b[39m => \u001b[32mUnit\u001b[39m = ammonite.$sess.cmd2$Helper$$Lambda/0x000001f00186c9d8@4e9ddd6f\n",
       "\u001b[36mbake\u001b[39m: (\u001b[32mString\u001b[39m, \u001b[32mString\u001b[39m) => \u001b[32mString\u001b[39m = ammonite.$sess.cmd2$Helper$$Lambda/0x000001f00186cda0@3eafbe8e\n",
       "\u001b[36mcakeBake\u001b[39m: \u001b[32mString\u001b[39m => \u001b[32mString\u001b[39m = ammonite.$sess.cmd2$Helper$$Lambda/0x000001f00186d348@570ea4d7\n",
       "\u001b[36mpizzaBake\u001b[39m: \u001b[32mString\u001b[39m => \u001b[32mString\u001b[39m = ammonite.$sess.cmd2$Helper$$Lambda/0x000001f00186d718@c8df539\n",
       "\u001b[36mcakePreparation\u001b[39m: \u001b[32mString\u001b[39m => \u001b[32mUnit\u001b[39m = scala.Function1$$Lambda/0x000001f001854250@1aa48949\n",
       "\u001b[36mpizzaPreparation\u001b[39m: \u001b[32mString\u001b[39m => \u001b[32mUnit\u001b[39m = scala.Function1$$Lambda/0x000001f001854250@1dde6470"
      ]
     },
     "execution_count": 2,
     "metadata": {},
     "output_type": "execute_result"
    }
   ],
   "source": [
    "val addTopping = (result: String) => {\n",
    "    println(s\"Added the Topping $result\")\n",
    "}\n",
    "\n",
    "val bake = (ftype: String, topping: String) => {\n",
    "    println(s\"Baked $ftype ready for $topping topping\")\n",
    "    topping\n",
    "}\n",
    "\n",
    "val cakeBake = bake(\"cake\", _: String)\n",
    "// Here you created cakeBake with calling bake with one fixed(frozen) value \"cake\" and the other value is open. cakeBake is partial function\n",
    "val pizzaBake = bake(\"pizza\", _: String)\n",
    "\n",
    "val cakePreparation = cakeBake andThen addTopping\n",
    "val pizzaPreparation = pizzaBake andThen addTopping \n",
    "\n",
    "\n",
    "\n",
    "cakePreparation(\"Strawberry Cream\")\n",
    "pizzaPreparation(\"Olives\")\n",
    "\n",
    "// The below fails because andThen expects partial function on left side but bake(\"Cheesecake\",\"banana puddings\") returns String ,\n",
    "//\"banana puddings\" andThen addTopping doesn't make sense\n",
    "\n",
    "// bake(\"Cheesecake\",\"banana puddings\") andThen addTopping\n",
    "\n"
   ]
  },
  {
   "cell_type": "code",
   "execution_count": 4,
   "metadata": {},
   "outputs": [
    {
     "name": "stdout",
     "output_type": "stream",
     "text": [
      "41\n",
      "17\n"
     ]
    },
    {
     "data": {
      "text/plain": [
       "defined \u001b[32mfunction\u001b[39m \u001b[36maddbyone\u001b[39m\n",
       "defined \u001b[32mfunction\u001b[39m \u001b[36mdouble\u001b[39m\n",
       "\u001b[36mresult\u001b[39m: \u001b[32mInt\u001b[39m => \u001b[32mInt\u001b[39m = scala.Function1$$Lambda/0x000001f001854250@69482731\n",
       "defined \u001b[32mfunction\u001b[39m \u001b[36maddbyone1\u001b[39m\n",
       "defined \u001b[32mfunction\u001b[39m \u001b[36mdouble1\u001b[39m\n",
       "\u001b[36mresult2\u001b[39m: \u001b[32mInt\u001b[39m => \u001b[32mInt\u001b[39m = scala.Function1$$Lambda/0x000001f001854250@36202390"
      ]
     },
     "execution_count": 4,
     "metadata": {},
     "output_type": "execute_result"
    }
   ],
   "source": [
    "def addbyone: Int => Int = x => x+1\n",
    "def double: Int => Int = y => y*2\n",
    "val result = double andThen addbyone\n",
    "println(result(20))\n",
    "\n",
    "def addbyone1(x:Int): Int = x+1\n",
    "def double1(y:Int): Int = y*2\n",
    "val result2 = double1 _ andThen addbyone1\n",
    "println(result2(8))\n",
    "\n",
    "//Here  addbyone and double are Functions but addbyone1 and double1 are methods.For andThen to be working the left side should be function so double1 andThen addbyone1 fails\n",
    "// but double1 _ andThen addbyone1 works. => lambda reprsentation are functions ,= representations are methods. "
   ]
  }
 ],
 "metadata": {
  "kernelspec": {
   "display_name": "Scala",
   "language": "scala",
   "name": "scala"
  },
  "language_info": {
   "codemirror_mode": "text/x-scala",
   "file_extension": ".sc",
   "mimetype": "text/x-scala",
   "name": "scala",
   "nbconvert_exporter": "script",
   "version": "2.13.14"
  }
 },
 "nbformat": 4,
 "nbformat_minor": 2
}

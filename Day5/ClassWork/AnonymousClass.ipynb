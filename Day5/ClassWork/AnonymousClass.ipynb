{
 "cells": [
  {
   "cell_type": "markdown",
   "metadata": {},
   "source": [
    "## Anonymous class"
   ]
  },
  {
   "cell_type": "markdown",
   "metadata": {},
   "source": [
    "### Abstract Class "
   ]
  },
  {
   "cell_type": "code",
   "execution_count": 4,
   "metadata": {},
   "outputs": [
    {
     "name": "stdout",
     "output_type": "stream",
     "text": [
      "Elephant trumpets!\n",
      "Bear growls!\n"
     ]
    },
    {
     "data": {
      "text/plain": [
       "defined \u001b[32mclass\u001b[39m \u001b[36mAnimal\u001b[39m\n",
       "\u001b[36mmyAnimal\u001b[39m: \u001b[32mAnimal\u001b[39m = ammonite.$sess.cmd4$Helper$$anon$1@56c6c40e\n",
       "\u001b[36mlambdaSound\u001b[39m: \u001b[32mString\u001b[39m => \u001b[32mString\u001b[39m = ammonite.$sess.cmd4$Helper$$Lambda/0x00003e0001868a90@16a709d6\n",
       "\u001b[36mlambdaAnimal\u001b[39m: \u001b[32mAnimal\u001b[39m = ammonite.$sess.cmd4$Helper$$anon$2@6bbf0693"
      ]
     },
     "execution_count": 4,
     "metadata": {},
     "output_type": "execute_result"
    }
   ],
   "source": [
    "// Defining an abstract class with an abstract method\n",
    "abstract class Animal(val name: String) {\n",
    "  def speak(): String  // Abstract method\n",
    "}\n",
    "\n",
    "// Using an anonymous class to implement the abstract class\n",
    "val myAnimal: Animal = new Animal(\"Elephant\") {\n",
    "  // Implementing the abstract method\n",
    "  def speak(): String = {\n",
    "    s\"$name trumpets!\"\n",
    "  }\n",
    "}\n",
    "\n",
    "// Using the anonymous class instance\n",
    "println(myAnimal.speak())  // Outputs: Elephant trumpets!\n",
    "\n",
    "// Implementing the speak method with a lambda function\n",
    "val lambdaSound: String => String = (animal: String) => {\n",
    "  s\"$animal growls!\"\n",
    "}\n",
    "\n",
    "// Wrapping the lambda function in an anonymous class\n",
    "val lambdaAnimal: Animal = new Animal(\"Bear\") {\n",
    "  // Implementing the abstract method using the lambda function\n",
    "  def speak(): String = lambdaSound(name)\n",
    "}\n",
    "\n",
    "// Using the lambda function implementation\n",
    "println(lambdaAnimal.speak())  // Outputs: Bear growls!\n"
   ]
  },
  {
   "cell_type": "markdown",
   "metadata": {},
   "source": [
    "### Traits"
   ]
  },
  {
   "cell_type": "code",
   "execution_count": 3,
   "metadata": {},
   "outputs": [
    {
     "name": "stdout",
     "output_type": "stream",
     "text": [
      "Hello, Alice! This is from the anonymous class.\n",
      "Hi, Bob! This is from the lambda function.\n"
     ]
    },
    {
     "data": {
      "text/plain": [
       "defined \u001b[32mtrait\u001b[39m \u001b[36mGreeting\u001b[39m\n",
       "\u001b[36mmyGreeting\u001b[39m: \u001b[32mGreeting\u001b[39m = ammonite.$sess.cmd3$Helper$$anon$1@5b222d55\n",
       "\u001b[36mlambdaGreeting\u001b[39m: \u001b[32mString\u001b[39m => \u001b[32mString\u001b[39m = ammonite.$sess.cmd3$Helper$$Lambda/0x00003e0001648800@723ba4cf\n",
       "\u001b[36mlambdaGreetingWrapper\u001b[39m: \u001b[32mGreeting\u001b[39m = ammonite.$sess.cmd3$Helper$$anon$2@99db743"
      ]
     },
     "execution_count": 3,
     "metadata": {},
     "output_type": "execute_result"
    }
   ],
   "source": [
    "// Defining a trait with an abstract method\n",
    "trait Greeting {\n",
    "  def greet(name: String): String\n",
    "}\n",
    "\n",
    "// Using an anonymous class to implement the trait\n",
    "val myGreeting: Greeting = new Greeting {\n",
    "def greet(name: String): String = {\n",
    "    s\"Hello, $name! This is from the anonymous class.\"\n",
    "}\n",
    "}\n",
    "\n",
    "// Using the anonymous class instance\n",
    "println(myGreeting.greet(\"Alice\"))  // Outputs: Hello, Alice! This is from the anonymous class.\n",
    "\n",
    "// Implementing the trait with a lambda function\n",
    "val lambdaGreeting: String => String = (name: String) => {\n",
    "s\"Hi, $name! This is from the lambda function.\"\n",
    "}\n",
    "\n",
    "// Since lambda functions don't define the trait directly, we'll wrap it in an object\n",
    "val lambdaGreetingWrapper: Greeting = new Greeting {\n",
    "def greet(name: String): String = lambdaGreeting(name)\n",
    "}\n",
    "\n",
    "// Using the lambda function implementation\n",
    "println(lambdaGreetingWrapper.greet(\"Bob\"))  // Outputs: Hi, Bob! This is from the lambda function.\n",
    "\n"
   ]
  }
 ],
 "metadata": {
  "kernelspec": {
   "display_name": "Scala",
   "language": "scala",
   "name": "scala"
  },
  "language_info": {
   "codemirror_mode": "text/x-scala",
   "file_extension": ".sc",
   "mimetype": "text/x-scala",
   "name": "scala",
   "nbconvert_exporter": "script",
   "version": "2.13.14"
  }
 },
 "nbformat": 4,
 "nbformat_minor": 2
}

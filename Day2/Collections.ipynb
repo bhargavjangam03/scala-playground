{
 "cells": [
  {
   "cell_type": "markdown",
   "metadata": {},
   "source": [
    "# Collections\n"
   ]
  },
  {
   "cell_type": "markdown",
   "metadata": {},
   "source": [
    "### 1) Lists"
   ]
  },
  {
   "cell_type": "code",
   "execution_count": 4,
   "metadata": {},
   "outputs": [
    {
     "name": "stdout",
     "output_type": "stream",
     "text": [
      "Fruits: Apple, Banana, Cherry\n",
      "First Fruit: Apple\n",
      "More Fruits: Orange, Apple, Banana, Cherry\n"
     ]
    },
    {
     "data": {
      "text/plain": [
       "\u001b[36mfruits\u001b[39m: \u001b[32mList\u001b[39m[\u001b[32mString\u001b[39m] = \u001b[33mList\u001b[39m(\u001b[32m\"Apple\"\u001b[39m, \u001b[32m\"Banana\"\u001b[39m, \u001b[32m\"Cherry\"\u001b[39m)\n",
       "\u001b[36mfirstFruit\u001b[39m: \u001b[32mString\u001b[39m = \u001b[32m\"Apple\"\u001b[39m\n",
       "\u001b[36mmoreFruits\u001b[39m: \u001b[32mList\u001b[39m[\u001b[32mString\u001b[39m] = \u001b[33mList\u001b[39m(\u001b[32m\"Orange\"\u001b[39m, \u001b[32m\"Apple\"\u001b[39m, \u001b[32m\"Banana\"\u001b[39m, \u001b[32m\"Cherry\"\u001b[39m)"
      ]
     },
     "execution_count": 4,
     "metadata": {},
     "output_type": "execute_result"
    }
   ],
   "source": [
    "// Creating a List\n",
    "val fruits: List[String] = List(\"Apple\", \"Banana\", \"Cherry\")\n",
    "println(s\"Fruits: ${fruits.mkString(\", \")}\")  // Output: Fruits: Apple, Banana, Cherry\n",
    "\n",
    "// Accessing Elements\n",
    "val firstFruit = fruits(0)\n",
    "println(s\"First Fruit: $firstFruit\")  // Output: First Fruit: Apple\n",
    "\n",
    "// Adding Elements (creating a new list)\n",
    "val moreFruits = \"Orange\" :: fruits\n",
    "println(s\"More Fruits: ${moreFruits.mkString(\", \")}\")  // Output: More Fruits: Orange, Apple, Banana, Cherry\n"
   ]
  },
  {
   "cell_type": "markdown",
   "metadata": {},
   "source": [
    "### 2) Mutable Lists"
   ]
  },
  {
   "cell_type": "code",
   "execution_count": 5,
   "metadata": {},
   "outputs": [
    {
     "name": "stdout",
     "output_type": "stream",
     "text": [
      "Mutable Fruits: Apple, Banana, Cherry\n",
      "After Adding Orange: Apple, Banana, Cherry, Orange\n",
      "After Removing Banana: Apple, Cherry, Orange\n"
     ]
    },
    {
     "data": {
      "text/plain": [
       "\u001b[32mimport \u001b[39m\u001b[36mscala.collection.mutable.ListBuffer\u001b[39m\n",
       "\u001b[36mmutableFruits\u001b[39m: \u001b[32mListBuffer\u001b[39m[\u001b[32mString\u001b[39m] = \u001b[33mListBuffer\u001b[39m(\u001b[32m\"Apple\"\u001b[39m, \u001b[32m\"Cherry\"\u001b[39m, \u001b[32m\"Orange\"\u001b[39m)\n",
       "\u001b[36mres5_3\u001b[39m: \u001b[32mListBuffer\u001b[39m[\u001b[32mString\u001b[39m] = \u001b[33mListBuffer\u001b[39m(\u001b[32m\"Apple\"\u001b[39m, \u001b[32m\"Cherry\"\u001b[39m, \u001b[32m\"Orange\"\u001b[39m)\n",
       "\u001b[36mres5_5\u001b[39m: \u001b[32mListBuffer\u001b[39m[\u001b[32mString\u001b[39m] = \u001b[33mListBuffer\u001b[39m(\u001b[32m\"Apple\"\u001b[39m, \u001b[32m\"Cherry\"\u001b[39m, \u001b[32m\"Orange\"\u001b[39m)"
      ]
     },
     "execution_count": 5,
     "metadata": {},
     "output_type": "execute_result"
    }
   ],
   "source": [
    "import scala.collection.mutable.ListBuffer\n",
    "\n",
    "// Creating a Mutable List\n",
    "val mutableFruits: ListBuffer[String] = ListBuffer(\"Apple\", \"Banana\", \"Cherry\")\n",
    "println(s\"Mutable Fruits: ${mutableFruits.mkString(\", \")}\")  // Output: Mutable Fruits: Apple, Banana, Cherry\n",
    "\n",
    "// Adding Elements\n",
    "mutableFruits += \"Orange\"\n",
    "println(s\"After Adding Orange: ${mutableFruits.mkString(\", \")}\")  // Output: After Adding Orange: Apple, Banana, Cherry, Orange\n",
    "\n",
    "// Removing Elements\n",
    "mutableFruits -= \"Banana\"\n",
    "println(s\"After Removing Banana: ${mutableFruits.mkString(\", \")}\")  // Output: After Removing Banana: Apple, Cherry, Orange\n"
   ]
  },
  {
   "cell_type": "markdown",
   "metadata": {},
   "source": [
    "### 3) Set"
   ]
  },
  {
   "cell_type": "code",
   "execution_count": 6,
   "metadata": {},
   "outputs": [
    {
     "name": "stdout",
     "output_type": "stream",
     "text": [
      "Fruits Set: Apple, Banana, Cherry\n"
     ]
    },
    {
     "data": {
      "text/plain": [
       "\u001b[36mfruitsSet\u001b[39m: \u001b[32mSet\u001b[39m[\u001b[32mString\u001b[39m] = \u001b[33mSet\u001b[39m(\u001b[32m\"Apple\"\u001b[39m, \u001b[32m\"Banana\"\u001b[39m, \u001b[32m\"Cherry\"\u001b[39m)"
      ]
     },
     "execution_count": 6,
     "metadata": {},
     "output_type": "execute_result"
    }
   ],
   "source": [
    "// Creating an Immutable Set\n",
    "val fruitsSet: Set[String] = Set(\"Apple\", \"Banana\", \"Cherry\", \"Apple\")  // Duplicate \"Apple\" will be ignored\n",
    "println(s\"Fruits Set: ${fruitsSet.mkString(\", \")}\")  // Output: Fruits Set: Apple, Banana, Cherry\n",
    "\n",
    "\n",
    "\n",
    "\n",
    "\n"
   ]
  },
  {
   "cell_type": "markdown",
   "metadata": {},
   "source": [
    "### 4) Mutable Sets"
   ]
  },
  {
   "cell_type": "code",
   "execution_count": 7,
   "metadata": {},
   "outputs": [
    {
     "name": "stdout",
     "output_type": "stream",
     "text": [
      "Mutable Fruits Set: Apple, Cherry, Banana\n"
     ]
    },
    {
     "data": {
      "text/plain": [
       "\u001b[32mimport \u001b[39m\u001b[36mscala.collection.mutable.Set\u001b[39m\n",
       "\u001b[36mmutableFruitsSet\u001b[39m: \u001b[32mSet\u001b[39m[\u001b[32mString\u001b[39m] = \u001b[33mHashSet\u001b[39m(\u001b[32m\"Apple\"\u001b[39m, \u001b[32m\"Cherry\"\u001b[39m, \u001b[32m\"Banana\"\u001b[39m)\n",
       "\u001b[36mres7_2\u001b[39m: \u001b[32mSet\u001b[39m[\u001b[32mString\u001b[39m] = \u001b[33mHashSet\u001b[39m(\u001b[32m\"Apple\"\u001b[39m, \u001b[32m\"Cherry\"\u001b[39m, \u001b[32m\"Banana\"\u001b[39m)"
      ]
     },
     "execution_count": 7,
     "metadata": {},
     "output_type": "execute_result"
    }
   ],
   "source": [
    "import scala.collection.mutable.Set\n",
    "\n",
    "//Creating a Mutable Set\n",
    "val mutableFruitsSet: Set[String] = Set(\"Apple\", \"Banana\")\n",
    "mutableFruitsSet += \"Cherry\"\n",
    "println(s\"Mutable Fruits Set: ${mutableFruitsSet.mkString(\", \")}\")  // Output: Mutable Fruits Set: Apple, Banana, Cherry"
   ]
  },
  {
   "cell_type": "markdown",
   "metadata": {},
   "source": [
    "### 5) Immutable Map"
   ]
  },
  {
   "cell_type": "code",
   "execution_count": 8,
   "metadata": {},
   "outputs": [
    {
     "name": "stdout",
     "output_type": "stream",
     "text": [
      "Fruits Map: Apple -> 1.2, Banana -> 0.5, Cherry -> 2.0\n",
      "Price of Apple: 1.2\n"
     ]
    },
    {
     "data": {
      "text/plain": [
       "\u001b[36mfruitsMap\u001b[39m: \u001b[32mMap\u001b[39m[\u001b[32mString\u001b[39m, \u001b[32mDouble\u001b[39m] = \u001b[33mMap\u001b[39m(\n",
       "  \u001b[32m\"Apple\"\u001b[39m -> \u001b[32m1.2\u001b[39m,\n",
       "  \u001b[32m\"Banana\"\u001b[39m -> \u001b[32m0.5\u001b[39m,\n",
       "  \u001b[32m\"Cherry\"\u001b[39m -> \u001b[32m2.0\u001b[39m\n",
       ")\n",
       "\u001b[36mapplePrice\u001b[39m: \u001b[32mDouble\u001b[39m = \u001b[32m1.2\u001b[39m"
      ]
     },
     "execution_count": 8,
     "metadata": {},
     "output_type": "execute_result"
    }
   ],
   "source": [
    "// Creating an Immutable Map\n",
    "val fruitsMap: Map[String, Double] = Map(\"Apple\" -> 1.2, \"Banana\" -> 0.5, \"Cherry\" -> 2.0)\n",
    "println(s\"Fruits Map: ${fruitsMap.mkString(\", \")}\")  // Output: Fruits Map: Apple -> 1.2, Banana -> 0.5, Cherry -> 2.0\n",
    "\n",
    "// Accessing Elements\n",
    "val applePrice = fruitsMap(\"Apple\")\n",
    "println(s\"Price of Apple: $applePrice\")  // Output: Price of Apple: 1.2\n"
   ]
  },
  {
   "cell_type": "markdown",
   "metadata": {},
   "source": [
    "### 6) Mutable Map"
   ]
  },
  {
   "cell_type": "code",
   "execution_count": 9,
   "metadata": {},
   "outputs": [
    {
     "name": "stdout",
     "output_type": "stream",
     "text": [
      "Mutable Fruits Map: Apple -> 1.2, Cherry -> 2.0, Banana -> 0.5\n",
      "After Removing Banana: Apple -> 1.2, Cherry -> 2.0\n"
     ]
    },
    {
     "data": {
      "text/plain": [
       "\u001b[32mimport \u001b[39m\u001b[36mscala.collection.mutable.Map\u001b[39m\n",
       "\u001b[36mmutableFruitsMap\u001b[39m: \u001b[32mMap\u001b[39m[\u001b[32mString\u001b[39m, \u001b[32mDouble\u001b[39m] = \u001b[33mHashMap\u001b[39m(\u001b[32m\"Apple\"\u001b[39m -> \u001b[32m1.2\u001b[39m, \u001b[32m\"Cherry\"\u001b[39m -> \u001b[32m2.0\u001b[39m)\n",
       "\u001b[36mres9_4\u001b[39m: \u001b[32mMap\u001b[39m[\u001b[32mString\u001b[39m, \u001b[32mDouble\u001b[39m] = \u001b[33mHashMap\u001b[39m(\u001b[32m\"Apple\"\u001b[39m -> \u001b[32m1.2\u001b[39m, \u001b[32m\"Cherry\"\u001b[39m -> \u001b[32m2.0\u001b[39m)"
      ]
     },
     "execution_count": 9,
     "metadata": {},
     "output_type": "execute_result"
    }
   ],
   "source": [
    "import scala.collection.mutable.Map\n",
    "\n",
    "// Creating a Mutable Map\n",
    "val mutableFruitsMap: Map[String, Double] = Map(\"Apple\" -> 1.2, \"Banana\" -> 0.5)\n",
    "mutableFruitsMap(\"Cherry\") = 2.0\n",
    "println(s\"Mutable Fruits Map: ${mutableFruitsMap.mkString(\", \")}\")  // Output: Mutable Fruits Map: Apple -> 1.2, Banana -> 0.5, Cherry -> 2.0\n",
    "\n",
    "// Removing Elements\n",
    "mutableFruitsMap -= \"Banana\"\n",
    "println(s\"After Removing Banana: ${mutableFruitsMap.mkString(\", \")}\")  // Output: After Removing Banana: Apple -> 1.2, Cherry -> 2.0\n"
   ]
  },
  {
   "cell_type": "markdown",
   "metadata": {},
   "source": [
    "### 6) Basic Operations on Collections"
   ]
  },
  {
   "cell_type": "code",
   "execution_count": 10,
   "metadata": {},
   "outputs": [
    {
     "name": "stderr",
     "output_type": "stream",
     "text": [
      "cmd10.sc:10: method + in trait SetOps is deprecated (since 2.13.0): Consider requiring an immutable Set or fall back to Set.union\n",
      "val uniqueFruits = mutableFruitsSet + \"Banana\"  // Adding a duplicate (will be ignored)\n",
      "                                    ^\n"
     ]
    },
    {
     "name": "stdout",
     "output_type": "stream",
     "text": [
      "Doubled Fruits: Apple - 10, Banana - 12, Cherry - 12\n",
      "Filtered Fruits: Apple\n",
      "Unique Fruits Set: Apple, Cherry, Banana\n",
      "Filtered Set: Apple\n",
      "Discounted Prices: Apple -> 1.08, Banana -> 0.45, Cherry -> 1.8\n"
     ]
    },
    {
     "data": {
      "text/plain": [
       "\u001b[36mdoubledFruits\u001b[39m: \u001b[32mList\u001b[39m[\u001b[32mString\u001b[39m] = \u001b[33mList\u001b[39m(\u001b[32m\"Apple - 10\"\u001b[39m, \u001b[32m\"Banana - 12\"\u001b[39m, \u001b[32m\"Cherry - 12\"\u001b[39m)\n",
       "\u001b[36mfilteredFruits\u001b[39m: \u001b[32mList\u001b[39m[\u001b[32mString\u001b[39m] = \u001b[33mList\u001b[39m(\u001b[32m\"Apple\"\u001b[39m)\n",
       "\u001b[36muniqueFruits\u001b[39m: \u001b[32mSet\u001b[39m[\u001b[32mString\u001b[39m] = \u001b[33mHashSet\u001b[39m(\u001b[32m\"Apple\"\u001b[39m, \u001b[32m\"Cherry\"\u001b[39m, \u001b[32m\"Banana\"\u001b[39m)\n",
       "\u001b[36mfilteredSet\u001b[39m: \u001b[32mSet\u001b[39m[\u001b[32mString\u001b[39m] = \u001b[33mHashSet\u001b[39m(\u001b[32m\"Apple\"\u001b[39m)\n",
       "\u001b[36mdiscountedPrices\u001b[39m: \u001b[32mcollection\u001b[39m.\u001b[32mimmutable\u001b[39m.\u001b[32mMap\u001b[39m[\u001b[32mString\u001b[39m, \u001b[32mDouble\u001b[39m] = \u001b[33mMap\u001b[39m(\n",
       "  \u001b[32m\"Apple\"\u001b[39m -> \u001b[32m1.08\u001b[39m,\n",
       "  \u001b[32m\"Banana\"\u001b[39m -> \u001b[32m0.45\u001b[39m,\n",
       "  \u001b[32m\"Cherry\"\u001b[39m -> \u001b[32m1.8\u001b[39m\n",
       ")"
      ]
     },
     "execution_count": 10,
     "metadata": {},
     "output_type": "execute_result"
    }
   ],
   "source": [
    "// Operations on Lists\n",
    "val doubledFruits = fruits.map(fruit => s\"$fruit - ${fruit.length * 2}\")\n",
    "println(s\"Doubled Fruits: ${doubledFruits.mkString(\", \")}\")  // Output: Doubled Fruits: Apple - 10, Banana - 12, Cherry - 12\n",
    "\n",
    "val filteredFruits = fruits.filter(_.startsWith(\"A\"))\n",
    "println(s\"Filtered Fruits: ${filteredFruits.mkString(\", \")}\")  // Output: Filtered Fruits: Apple\n",
    "\n",
    "\n",
    "// Operations on Sets\n",
    "val uniqueFruits = mutableFruitsSet + \"Banana\"  // Adding a duplicate (will be ignored)\n",
    "println(s\"Unique Fruits Set: ${uniqueFruits.mkString(\", \")}\")  // Output: Unique Fruits Set: Apple, Banana, Cherry\n",
    "\n",
    "val filteredSet = mutableFruitsSet.filter(_.startsWith(\"A\"))\n",
    "println(s\"Filtered Set: ${filteredSet.mkString(\", \")}\")  // Output: Filtered Set: Apple\n",
    "\n",
    "// Operations on Maps\n",
    "val discountedPrices = fruitsMap.map { case (fruit, price) => (fruit, price * 0.9) }\n",
    "println(s\"Discounted Prices: ${discountedPrices.mkString(\", \")}\")  // Output: Discounted Prices: Apple -> 1.08, Banana -> 0.45, Cherry -> 1.8\n",
    "\n"
   ]
  }
 ],
 "metadata": {
  "kernelspec": {
   "display_name": "Scala",
   "language": "scala",
   "name": "scala"
  },
  "language_info": {
   "codemirror_mode": "text/x-scala",
   "file_extension": ".sc",
   "mimetype": "text/x-scala",
   "name": "scala",
   "nbconvert_exporter": "script",
   "version": "2.13.14"
  }
 },
 "nbformat": 4,
 "nbformat_minor": 2
}

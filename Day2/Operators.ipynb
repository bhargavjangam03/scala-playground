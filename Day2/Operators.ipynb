{
 "cells": [
  {
   "cell_type": "markdown",
   "metadata": {},
   "source": [
    "# Operators in Scala\n"
   ]
  },
  {
   "cell_type": "markdown",
   "metadata": {},
   "source": [
    "### 1) Arithmetic Operators"
   ]
  },
  {
   "cell_type": "code",
   "execution_count": 1,
   "metadata": {},
   "outputs": [
    {
     "name": "stdout",
     "output_type": "stream",
     "text": [
      "Sum: 15\n",
      "Difference: 5\n",
      "Product: 50\n",
      "Quotient: 2\n",
      "Remainder: 0\n"
     ]
    },
    {
     "data": {
      "text/plain": [
       "\u001b[36ma\u001b[39m: \u001b[32mInt\u001b[39m = \u001b[32m10\u001b[39m\n",
       "\u001b[36mb\u001b[39m: \u001b[32mInt\u001b[39m = \u001b[32m5\u001b[39m\n",
       "\u001b[36msum\u001b[39m: \u001b[32mInt\u001b[39m = \u001b[32m15\u001b[39m\n",
       "\u001b[36mdifference\u001b[39m: \u001b[32mInt\u001b[39m = \u001b[32m5\u001b[39m\n",
       "\u001b[36mproduct\u001b[39m: \u001b[32mInt\u001b[39m = \u001b[32m50\u001b[39m\n",
       "\u001b[36mquotient\u001b[39m: \u001b[32mInt\u001b[39m = \u001b[32m2\u001b[39m\n",
       "\u001b[36mremainder\u001b[39m: \u001b[32mInt\u001b[39m = \u001b[32m0\u001b[39m"
      ]
     },
     "execution_count": 1,
     "metadata": {},
     "output_type": "execute_result"
    }
   ],
   "source": [
    "// Arithmetic Operations\n",
    "val a = 10\n",
    "val b = 5\n",
    "\n",
    "val sum = a + b         // Addition\n",
    "val difference = a - b  // Subtraction\n",
    "val product = a * b     // Multiplication\n",
    "val quotient = a / b    // Division\n",
    "val remainder = a % b   // Modulus\n",
    "\n",
    "println(s\"Sum: $sum\")                \n",
    "println(s\"Difference: $difference\")  \n",
    "println(s\"Product: $product\")        \n",
    "println(s\"Quotient: $quotient\")      \n",
    "println(s\"Remainder: $remainder\")    \n"
   ]
  },
  {
   "cell_type": "markdown",
   "metadata": {},
   "source": [
    "### 2) Relational Operators"
   ]
  },
  {
   "cell_type": "code",
   "execution_count": 2,
   "metadata": {},
   "outputs": [
    {
     "name": "stdout",
     "output_type": "stream",
     "text": [
      "Is Equal: false\n",
      "Is Not Equal: true\n",
      "Is Greater: false\n",
      "Is Less: true\n",
      "Is Greater or Equal: false\n",
      "Is Less or Equal: true\n"
     ]
    },
    {
     "data": {
      "text/plain": [
       "\u001b[36mx\u001b[39m: \u001b[32mInt\u001b[39m = \u001b[32m10\u001b[39m\n",
       "\u001b[36my\u001b[39m: \u001b[32mInt\u001b[39m = \u001b[32m20\u001b[39m\n",
       "\u001b[36misEqual\u001b[39m: \u001b[32mBoolean\u001b[39m = \u001b[32mfalse\u001b[39m\n",
       "\u001b[36misNotEqual\u001b[39m: \u001b[32mBoolean\u001b[39m = \u001b[32mtrue\u001b[39m\n",
       "\u001b[36misGreater\u001b[39m: \u001b[32mBoolean\u001b[39m = \u001b[32mfalse\u001b[39m\n",
       "\u001b[36misLess\u001b[39m: \u001b[32mBoolean\u001b[39m = \u001b[32mtrue\u001b[39m\n",
       "\u001b[36misGreaterOrEqual\u001b[39m: \u001b[32mBoolean\u001b[39m = \u001b[32mfalse\u001b[39m\n",
       "\u001b[36misLessOrEqual\u001b[39m: \u001b[32mBoolean\u001b[39m = \u001b[32mtrue\u001b[39m"
      ]
     },
     "execution_count": 2,
     "metadata": {},
     "output_type": "execute_result"
    }
   ],
   "source": [
    "// Relational Operations\n",
    "val x = 10\n",
    "val y = 20\n",
    "\n",
    "val isEqual = x == y            // Equal to\n",
    "val isNotEqual = x != y         // Not equal to\n",
    "val isGreater = x > y           // Greater than\n",
    "val isLess = x < y              // Less than\n",
    "val isGreaterOrEqual = x >= y   // Greater than or equal to\n",
    "val isLessOrEqual = x <= y      // Less than or equal to\n",
    "\n",
    "println(s\"Is Equal: $isEqual\")                    \n",
    "println(s\"Is Not Equal: $isNotEqual\")              \n",
    "println(s\"Is Greater: $isGreater\")                  \n",
    "println(s\"Is Less: $isLess\")                       \n",
    "println(s\"Is Greater or Equal: $isGreaterOrEqual\") \n",
    "println(s\"Is Less or Equal: $isLessOrEqual\")        \n"
   ]
  },
  {
   "cell_type": "markdown",
   "metadata": {},
   "source": [
    "### 3) Logical Operators"
   ]
  },
  {
   "cell_type": "code",
   "execution_count": 3,
   "metadata": {},
   "outputs": [
    {
     "name": "stderr",
     "output_type": "stream",
     "text": [
      "(console):10:74 expected \"\\\"\"\n",
      "println(s\"OR Condition: $orCondition)       // Output: OR Condition: true\n",
      "                                                                         ^"
     ]
    }
   ],
   "source": [
    "// Logical Operations\n",
    "val condition1 = true\n",
    "val condition2 = false\n",
    "\n",
    "val andCondition = condition1 && condition2   // Logical AND\n",
    "val orCondition = condition1 || condition2     // Logical OR\n",
    "val notCondition = !condition1                  // Logical NOT\n",
    "\n",
    "println(s\"AND Condition: $andCondition\")    \n",
    "println(s\"OR Condition: $orCondition)       \n",
    "println(s\"NOT Condition: $notCondition\")    \n"
   ]
  },
  {
   "cell_type": "markdown",
   "metadata": {},
   "source": [
    "### 4)  Bitwise Operators"
   ]
  },
  {
   "cell_type": "code",
   "execution_count": null,
   "metadata": {},
   "outputs": [
    {
     "name": "stdout",
     "output_type": "stream",
     "text": [
      "Mutable Fruits Set: Apple, Cherry, Banana\n"
     ]
    },
    {
     "data": {
      "text/plain": [
       "\u001b[32mimport \u001b[39m\u001b[36mscala.collection.mutable.Set\u001b[39m\n",
       "\u001b[36mmutableFruitsSet\u001b[39m: \u001b[32mSet\u001b[39m[\u001b[32mString\u001b[39m] = \u001b[33mHashSet\u001b[39m(\u001b[32m\"Apple\"\u001b[39m, \u001b[32m\"Cherry\"\u001b[39m, \u001b[32m\"Banana\"\u001b[39m)\n",
       "\u001b[36mres7_2\u001b[39m: \u001b[32mSet\u001b[39m[\u001b[32mString\u001b[39m] = \u001b[33mHashSet\u001b[39m(\u001b[32m\"Apple\"\u001b[39m, \u001b[32m\"Cherry\"\u001b[39m, \u001b[32m\"Banana\"\u001b[39m)"
      ]
     },
     "metadata": {},
     "output_type": "display_data"
    }
   ],
   "source": [
    "// Bitwise Operations\n",
    "val num1 = 10 // In binary: 1010\n",
    "val num2 = 4  // In binary: 0100\n",
    "\n",
    "val bitwiseAnd = num1 & num2    // Bitwise AND\n",
    "val bitwiseOr = num1 | num2     // Bitwise OR\n",
    "val bitwiseXor = num1 ^ num2    // Bitwise XOR\n",
    "val bitwiseNot = ~num1          // Bitwise NOT\n",
    "val leftShift = num1 << 2       // Left shift\n",
    "val rightShift = num1 >> 2      // Right shift\n",
    "\n",
    "println(s\"Bitwise AND: $bitwiseAnd\")         \n",
    "println(s\"Bitwise OR: $bitwiseOr\")           \n",
    "println(s\"Bitwise XOR: $bitwiseXor\")         \n",
    "println(s\"Bitwise NOT: $bitwiseNot\")        \n",
    "println(s\"Left Shift: $leftShift\")           \n",
    "println(s\"Right Shift: $rightShift\")         \n"
   ]
  },
  {
   "cell_type": "markdown",
   "metadata": {},
   "source": [
    "### 5) Assignment Operators"
   ]
  },
  {
   "cell_type": "code",
   "execution_count": null,
   "metadata": {},
   "outputs": [
    {
     "name": "stdout",
     "output_type": "stream",
     "text": [
      "Fruits Map: Apple -> 1.2, Banana -> 0.5, Cherry -> 2.0\n",
      "Price of Apple: 1.2\n"
     ]
    },
    {
     "data": {
      "text/plain": [
       "\u001b[36mfruitsMap\u001b[39m: \u001b[32mMap\u001b[39m[\u001b[32mString\u001b[39m, \u001b[32mDouble\u001b[39m] = \u001b[33mMap\u001b[39m(\n",
       "  \u001b[32m\"Apple\"\u001b[39m -> \u001b[32m1.2\u001b[39m,\n",
       "  \u001b[32m\"Banana\"\u001b[39m -> \u001b[32m0.5\u001b[39m,\n",
       "  \u001b[32m\"Cherry\"\u001b[39m -> \u001b[32m2.0\u001b[39m\n",
       ")\n",
       "\u001b[36mapplePrice\u001b[39m: \u001b[32mDouble\u001b[39m = \u001b[32m1.2\u001b[39m"
      ]
     },
     "metadata": {},
     "output_type": "display_data"
    }
   ],
   "source": [
    "// Assignment Operations\n",
    "var c = 10\n",
    "println(s\"Initial Value of c: $c\") \n",
    "\n",
    "c += 5  // c = c + 5\n",
    "println(s\"After c += 5: $c\") \n",
    "\n",
    "c -= 2  // c = c - 2\n",
    "println(s\"After c -= 2: $c\") \n",
    "\n",
    "c *= 2  // c = c * 2\n",
    "println(s\"After c *= 2: $c\") \n",
    "\n",
    "c /= 2  // c = c / 2\n",
    "println(s\"After c /= 2: $c\") \n"
   ]
  }
 ],
 "metadata": {
  "kernelspec": {
   "display_name": "Scala",
   "language": "scala",
   "name": "scala"
  },
  "language_info": {
   "codemirror_mode": "text/x-scala",
   "file_extension": ".sc",
   "mimetype": "text/x-scala",
   "name": "scala",
   "nbconvert_exporter": "script",
   "version": "2.13.14"
  }
 },
 "nbformat": 4,
 "nbformat_minor": 2
}

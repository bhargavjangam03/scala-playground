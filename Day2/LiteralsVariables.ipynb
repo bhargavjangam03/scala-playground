{
 "cells": [
  {
   "cell_type": "markdown",
   "metadata": {},
   "source": [
    "# Literals and Variables"
   ]
  },
  {
   "cell_type": "markdown",
   "metadata": {},
   "source": [
    "### 1) Integer Literals and Variables"
   ]
  },
  {
   "cell_type": "code",
   "execution_count": 11,
   "metadata": {},
   "outputs": [
    {
     "name": "stdout",
     "output_type": "stream",
     "text": [
      "Fixed Value: 10\n",
      "Original Mutable Value: 15\n",
      "Updated Mutable Value: 30\n"
     ]
    },
    {
     "data": {
      "text/html": [
       "<div class=\"jp-RenderedText\">\n",
       "<pre><code><span style=\"color: rgb(0, 187, 187)\"><span class=\"ansi-cyan-fg\">intLiteral</span></span>: <span style=\"color: rgb(0, 187, 0)\"><span class=\"ansi-green-fg\">Int</span></span> = <span style=\"color: rgb(0, 187, 0)\"><span class=\"ansi-green-fg\">100</span></span>\n",
       "<span style=\"color: rgb(0, 187, 187)\"><span class=\"ansi-cyan-fg\">inferenceIntLiteral</span></span>: <span style=\"color: rgb(0, 187, 0)\"><span class=\"ansi-green-fg\">Int</span></span> = <span style=\"color: rgb(0, 187, 0)\"><span class=\"ansi-green-fg\">42</span></span>\n",
       "<span style=\"color: rgb(0, 187, 187)\"><span class=\"ansi-cyan-fg\">fixedValue</span></span>: <span style=\"color: rgb(0, 187, 0)\"><span class=\"ansi-green-fg\">Int</span></span> = <span style=\"color: rgb(0, 187, 0)\"><span class=\"ansi-green-fg\">10</span></span>\n",
       "<span style=\"color: rgb(0, 187, 187)\"><span class=\"ansi-cyan-fg\">mutableValue</span></span>: <span style=\"color: rgb(0, 187, 0)\"><span class=\"ansi-green-fg\">Int</span></span> = <span style=\"color: rgb(0, 187, 0)\"><span class=\"ansi-green-fg\">30</span></span></code></pre>\n",
       "</div>"
      ],
      "text/plain": [
       "\u001b[36mintLiteral\u001b[39m: \u001b[32mInt\u001b[39m = \u001b[32m100\u001b[39m\n",
       "\u001b[36minferenceIntLiteral\u001b[39m: \u001b[32mInt\u001b[39m = \u001b[32m42\u001b[39m\n",
       "\u001b[36mfixedValue\u001b[39m: \u001b[32mInt\u001b[39m = \u001b[32m10\u001b[39m\n",
       "\u001b[36mmutableValue\u001b[39m: \u001b[32mInt\u001b[39m = \u001b[32m30\u001b[39m"
      ]
     },
     "metadata": {},
     "output_type": "display_data"
    }
   ],
   "source": [
    "// Integer literals\n",
    "val intLiteral: Int = 100\n",
    "val inferenceIntLiteral = 42  // Type inference\n",
    "\n",
    "// Immutable integer variable (val)\n",
    "val fixedValue: Int = 10\n",
    "println(s\"Fixed Value: $fixedValue\")\n",
    "\n",
    "// Mutable integer variable (var)\n",
    "var mutableValue: Int = 15\n",
    "println(s\"Original Mutable Value: $mutableValue\")\n",
    "\n",
    "// Reassigning a new value\n",
    "mutableValue = 30\n",
    "println(s\"Updated Mutable Value: $mutableValue\")\n"
   ]
  },
  {
   "cell_type": "markdown",
   "metadata": {},
   "source": [
    "### 2) Double Literals and Variables "
   ]
  },
  {
   "cell_type": "code",
   "execution_count": 12,
   "metadata": {},
   "outputs": [
    {
     "name": "stdout",
     "output_type": "stream",
     "text": [
      "Pi: 3.14159\n",
      "Original Temperature: 37.0\n",
      "Updated Temperature: 36.5\n"
     ]
    },
    {
     "data": {
      "text/html": [
       "<div class=\"jp-RenderedText\">\n",
       "<pre><code><span style=\"color: rgb(0, 187, 187)\"><span class=\"ansi-cyan-fg\">doubleLiteral</span></span>: <span style=\"color: rgb(0, 187, 0)\"><span class=\"ansi-green-fg\">Double</span></span> = <span style=\"color: rgb(0, 187, 0)\"><span class=\"ansi-green-fg\">3.14</span></span>\n",
       "<span style=\"color: rgb(0, 187, 187)\"><span class=\"ansi-cyan-fg\">inferenceDoubleLiteral</span></span>: <span style=\"color: rgb(0, 187, 0)\"><span class=\"ansi-green-fg\">Double</span></span> = <span style=\"color: rgb(0, 187, 0)\"><span class=\"ansi-green-fg\">2.718</span></span>\n",
       "<span style=\"color: rgb(0, 187, 187)\"><span class=\"ansi-cyan-fg\">pi</span></span>: <span style=\"color: rgb(0, 187, 0)\"><span class=\"ansi-green-fg\">Double</span></span> = <span style=\"color: rgb(0, 187, 0)\"><span class=\"ansi-green-fg\">3.14159</span></span>\n",
       "<span style=\"color: rgb(0, 187, 187)\"><span class=\"ansi-cyan-fg\">temperature</span></span>: <span style=\"color: rgb(0, 187, 0)\"><span class=\"ansi-green-fg\">Double</span></span> = <span style=\"color: rgb(0, 187, 0)\"><span class=\"ansi-green-fg\">36.5</span></span></code></pre>\n",
       "</div>"
      ],
      "text/plain": [
       "\u001b[36mdoubleLiteral\u001b[39m: \u001b[32mDouble\u001b[39m = \u001b[32m3.14\u001b[39m\n",
       "\u001b[36minferenceDoubleLiteral\u001b[39m: \u001b[32mDouble\u001b[39m = \u001b[32m2.718\u001b[39m\n",
       "\u001b[36mpi\u001b[39m: \u001b[32mDouble\u001b[39m = \u001b[32m3.14159\u001b[39m\n",
       "\u001b[36mtemperature\u001b[39m: \u001b[32mDouble\u001b[39m = \u001b[32m36.5\u001b[39m"
      ]
     },
     "metadata": {},
     "output_type": "display_data"
    }
   ],
   "source": [
    "// Double literals\n",
    "val doubleLiteral: Double = 3.14\n",
    "val inferenceDoubleLiteral = 2.718  // Type inference\n",
    "\n",
    "// Immutable double variable\n",
    "val pi: Double = 3.14159\n",
    "println(s\"Pi: $pi\")\n",
    "\n",
    "// Mutable double variable\n",
    "var temperature: Double = 37.0\n",
    "println(s\"Original Temperature: $temperature\")\n",
    "\n",
    "// Updating value\n",
    "temperature = 36.5\n",
    "println(s\"Updated Temperature: $temperature\")\n"
   ]
  },
  {
   "cell_type": "markdown",
   "metadata": {},
   "source": [
    "### 3) Float Literals and Variables "
   ]
  },
  {
   "cell_type": "code",
   "execution_count": 13,
   "metadata": {},
   "outputs": [
    {
     "name": "stdout",
     "output_type": "stream",
     "text": [
      "Speed of Light: 2.9979245E8\n",
      "Original Height: 5.6\n",
      "Updated Height: 6.1\n"
     ]
    },
    {
     "data": {
      "text/html": [
       "<div class=\"jp-RenderedText\">\n",
       "<pre><code><span style=\"color: rgb(0, 187, 187)\"><span class=\"ansi-cyan-fg\">piApprox</span></span>: <span style=\"color: rgb(0, 187, 0)\"><span class=\"ansi-green-fg\">Float</span></span> = <span style=\"color: rgb(0, 187, 0)\"><span class=\"ansi-green-fg\">3.14F</span></span>\n",
       "<span style=\"color: rgb(0, 187, 187)\"><span class=\"ansi-cyan-fg\">gravity</span></span>: <span style=\"color: rgb(0, 187, 0)\"><span class=\"ansi-green-fg\">Float</span></span> = <span style=\"color: rgb(0, 187, 0)\"><span class=\"ansi-green-fg\">9.8F</span></span>\n",
       "<span style=\"color: rgb(0, 187, 187)\"><span class=\"ansi-cyan-fg\">lightSpeed</span></span>: <span style=\"color: rgb(0, 187, 0)\"><span class=\"ansi-green-fg\">Float</span></span> = <span style=\"color: rgb(0, 187, 0)\"><span class=\"ansi-green-fg\">2.9979245E8F</span></span>\n",
       "<span style=\"color: rgb(0, 187, 187)\"><span class=\"ansi-cyan-fg\">height</span></span>: <span style=\"color: rgb(0, 187, 0)\"><span class=\"ansi-green-fg\">Float</span></span> = <span style=\"color: rgb(0, 187, 0)\"><span class=\"ansi-green-fg\">6.1F</span></span></code></pre>\n",
       "</div>"
      ],
      "text/plain": [
       "\u001b[36mpiApprox\u001b[39m: \u001b[32mFloat\u001b[39m = \u001b[32m3.14F\u001b[39m\n",
       "\u001b[36mgravity\u001b[39m: \u001b[32mFloat\u001b[39m = \u001b[32m9.8F\u001b[39m\n",
       "\u001b[36mlightSpeed\u001b[39m: \u001b[32mFloat\u001b[39m = \u001b[32m2.9979245E8F\u001b[39m\n",
       "\u001b[36mheight\u001b[39m: \u001b[32mFloat\u001b[39m = \u001b[32m6.1F\u001b[39m"
      ]
     },
     "metadata": {},
     "output_type": "display_data"
    }
   ],
   "source": [
    "// Float literal\n",
    "val piApprox: Float = 3.14f\n",
    "val gravity = 9.8F  // Type inference to Float due to the 'F' suffix\n",
    "\n",
    "// Immutable Float variable\n",
    "val lightSpeed: Float = 299792458f  // speed of light in m/s (approx.)\n",
    "println(s\"Speed of Light: $lightSpeed\")\n",
    "\n",
    "// Mutable Float variable\n",
    "var height: Float = 5.6f\n",
    "println(s\"Original Height: $height\")\n",
    "\n",
    "// Reassigning a new value\n",
    "height = 6.1f\n",
    "println(s\"Updated Height: $height\")\n"
   ]
  },
  {
   "cell_type": "markdown",
   "metadata": {},
   "source": [
    "### 4) Boolean Literals and Variables"
   ]
  },
  {
   "cell_type": "code",
   "execution_count": 14,
   "metadata": {},
   "outputs": [
    {
     "name": "stdout",
     "output_type": "stream",
     "text": [
      "Is Scala Fun? true\n",
      "Can Change: false\n",
      "Updated Can Change: true\n"
     ]
    },
    {
     "data": {
      "text/html": [
       "<div class=\"jp-RenderedText\">\n",
       "<pre><code><span style=\"color: rgb(0, 187, 187)\"><span class=\"ansi-cyan-fg\">trueLiteral</span></span>: <span style=\"color: rgb(0, 187, 0)\"><span class=\"ansi-green-fg\">Boolean</span></span> = <span style=\"color: rgb(0, 187, 0)\"><span class=\"ansi-green-fg\">true</span></span>\n",
       "<span style=\"color: rgb(0, 187, 187)\"><span class=\"ansi-cyan-fg\">falseLiteral</span></span>: <span style=\"color: rgb(0, 187, 0)\"><span class=\"ansi-green-fg\">Boolean</span></span> = <span style=\"color: rgb(0, 187, 0)\"><span class=\"ansi-green-fg\">false</span></span>\n",
       "<span style=\"color: rgb(0, 187, 187)\"><span class=\"ansi-cyan-fg\">isScalaFun</span></span>: <span style=\"color: rgb(0, 187, 0)\"><span class=\"ansi-green-fg\">Boolean</span></span> = <span style=\"color: rgb(0, 187, 0)\"><span class=\"ansi-green-fg\">true</span></span>\n",
       "<span style=\"color: rgb(0, 187, 187)\"><span class=\"ansi-cyan-fg\">canChange</span></span>: <span style=\"color: rgb(0, 187, 0)\"><span class=\"ansi-green-fg\">Boolean</span></span> = <span style=\"color: rgb(0, 187, 0)\"><span class=\"ansi-green-fg\">true</span></span></code></pre>\n",
       "</div>"
      ],
      "text/plain": [
       "\u001b[36mtrueLiteral\u001b[39m: \u001b[32mBoolean\u001b[39m = \u001b[32mtrue\u001b[39m\n",
       "\u001b[36mfalseLiteral\u001b[39m: \u001b[32mBoolean\u001b[39m = \u001b[32mfalse\u001b[39m\n",
       "\u001b[36misScalaFun\u001b[39m: \u001b[32mBoolean\u001b[39m = \u001b[32mtrue\u001b[39m\n",
       "\u001b[36mcanChange\u001b[39m: \u001b[32mBoolean\u001b[39m = \u001b[32mtrue\u001b[39m"
      ]
     },
     "metadata": {},
     "output_type": "display_data"
    }
   ],
   "source": [
    "// Boolean literals\n",
    "val trueLiteral = true\n",
    "val falseLiteral = false\n",
    "\n",
    "// Immutable boolean variable\n",
    "val isScalaFun: Boolean = true\n",
    "println(s\"Is Scala Fun? $isScalaFun\")\n",
    "\n",
    "// Mutable boolean variable\n",
    "var canChange: Boolean = false\n",
    "println(s\"Can Change: $canChange\")\n",
    "\n",
    "// Reassigning a new value\n",
    "canChange = true\n",
    "println(s\"Updated Can Change: $canChange\")\n"
   ]
  },
  {
   "cell_type": "markdown",
   "metadata": {},
   "source": [
    "### 5) String Literals and Variables"
   ]
  },
  {
   "cell_type": "code",
   "execution_count": 15,
   "metadata": {},
   "outputs": [
    {
     "name": "stdout",
     "output_type": "stream",
     "text": [
      "Fixed Greeting: Hello, Scala!\n",
      "Original Message: Scala is great!\n",
      "Updated Message: Scala is powerful!\n"
     ]
    },
    {
     "data": {
      "text/html": [
       "<div class=\"jp-RenderedText\">\n",
       "<pre><code><span style=\"color: rgb(0, 187, 187)\"><span class=\"ansi-cyan-fg\">referenceLiteral</span></span>: <span style=\"color: rgb(0, 187, 0)\"><span class=\"ansi-green-fg\">String</span></span> = <span style=\"color: rgb(0, 187, 0)\"><span class=\"ansi-green-fg\">&quot;Hey Bhargav&quot;</span></span>\n",
       "<span style=\"color: rgb(0, 187, 187)\"><span class=\"ansi-cyan-fg\">greetingLiteral</span></span>: <span style=\"color: rgb(0, 187, 0)\"><span class=\"ansi-green-fg\">String</span></span> = <span style=\"color: rgb(0, 187, 0)\"><span class=\"ansi-green-fg\">&quot;Hello, World!&quot;</span></span>\n",
       "<span style=\"color: rgb(0, 187, 187)\"><span class=\"ansi-cyan-fg\">fixedGreeting</span></span>: <span style=\"color: rgb(0, 187, 0)\"><span class=\"ansi-green-fg\">String</span></span> = <span style=\"color: rgb(0, 187, 0)\"><span class=\"ansi-green-fg\">&quot;Hello, Scala!&quot;</span></span>\n",
       "<span style=\"color: rgb(0, 187, 187)\"><span class=\"ansi-cyan-fg\">mutableMessage</span></span>: <span style=\"color: rgb(0, 187, 0)\"><span class=\"ansi-green-fg\">String</span></span> = <span style=\"color: rgb(0, 187, 0)\"><span class=\"ansi-green-fg\">&quot;Scala is powerful!&quot;</span></span></code></pre>\n",
       "</div>"
      ],
      "text/plain": [
       "\u001b[36mreferenceLiteral\u001b[39m: \u001b[32mString\u001b[39m = \u001b[32m\"Hey Bhargav\"\u001b[39m\n",
       "\u001b[36mgreetingLiteral\u001b[39m: \u001b[32mString\u001b[39m = \u001b[32m\"Hello, World!\"\u001b[39m\n",
       "\u001b[36mfixedGreeting\u001b[39m: \u001b[32mString\u001b[39m = \u001b[32m\"Hello, Scala!\"\u001b[39m\n",
       "\u001b[36mmutableMessage\u001b[39m: \u001b[32mString\u001b[39m = \u001b[32m\"Scala is powerful!\"\u001b[39m"
      ]
     },
     "metadata": {},
     "output_type": "display_data"
    }
   ],
   "source": [
    "// String literals\n",
    "val referenceLiteral: String  = \"Hey Bhargav\"\n",
    "val greetingLiteral = \"Hello, World!\"  // Using type inference\n",
    "\n",
    "// Immutable string variable\n",
    "val fixedGreeting: String = \"Hello, Scala!\"\n",
    "println(s\"Fixed Greeting: $fixedGreeting\")\n",
    "\n",
    "// Mutable string variable\n",
    "var mutableMessage: String = \"Scala is great!\"\n",
    "println(s\"Original Message: $mutableMessage\")\n",
    "\n",
    "// Updating the string\n",
    "mutableMessage = \"Scala is powerful!\"\n",
    "println(s\"Updated Message: $mutableMessage\")\n"
   ]
  },
  {
   "cell_type": "markdown",
   "metadata": {},
   "source": [
    "### 6) Character Literals and Variables"
   ]
  },
  {
   "cell_type": "code",
   "execution_count": 16,
   "metadata": {},
   "outputs": [
    {
     "name": "stdout",
     "output_type": "stream",
     "text": [
      "Initial: S\n",
      "Original Grade: B\n",
      "Updated Grade: A\n"
     ]
    },
    {
     "data": {
      "text/html": [
       "<div class=\"jp-RenderedText\">\n",
       "<pre><code><span style=\"color: rgb(0, 187, 187)\"><span class=\"ansi-cyan-fg\">charLiteral</span></span>: <span style=\"color: rgb(0, 187, 0)\"><span class=\"ansi-green-fg\">Char</span></span> = <span style=\"color: rgb(0, 187, 0)\"><span class=\"ansi-green-fg\">'A'</span></span>\n",
       "<span style=\"color: rgb(0, 187, 187)\"><span class=\"ansi-cyan-fg\">anotherCharLiteral</span></span>: <span style=\"color: rgb(0, 187, 0)\"><span class=\"ansi-green-fg\">Char</span></span> = <span style=\"color: rgb(0, 187, 0)\"><span class=\"ansi-green-fg\">'Z'</span></span>\n",
       "<span style=\"color: rgb(0, 187, 187)\"><span class=\"ansi-cyan-fg\">initial</span></span>: <span style=\"color: rgb(0, 187, 0)\"><span class=\"ansi-green-fg\">Char</span></span> = <span style=\"color: rgb(0, 187, 0)\"><span class=\"ansi-green-fg\">'S'</span></span>\n",
       "<span style=\"color: rgb(0, 187, 187)\"><span class=\"ansi-cyan-fg\">grade</span></span>: <span style=\"color: rgb(0, 187, 0)\"><span class=\"ansi-green-fg\">Char</span></span> = <span style=\"color: rgb(0, 187, 0)\"><span class=\"ansi-green-fg\">'A'</span></span></code></pre>\n",
       "</div>"
      ],
      "text/plain": [
       "\u001b[36mcharLiteral\u001b[39m: \u001b[32mChar\u001b[39m = \u001b[32m'A'\u001b[39m\n",
       "\u001b[36manotherCharLiteral\u001b[39m: \u001b[32mChar\u001b[39m = \u001b[32m'Z'\u001b[39m\n",
       "\u001b[36minitial\u001b[39m: \u001b[32mChar\u001b[39m = \u001b[32m'S'\u001b[39m\n",
       "\u001b[36mgrade\u001b[39m: \u001b[32mChar\u001b[39m = \u001b[32m'A'\u001b[39m"
      ]
     },
     "metadata": {},
     "output_type": "display_data"
    }
   ],
   "source": [
    "// Character literals\n",
    "val charLiteral: Char = 'A'\n",
    "val anotherCharLiteral = 'Z'\n",
    "\n",
    "// Immutable character variable\n",
    "val initial: Char = 'S'\n",
    "println(s\"Initial: $initial\")\n",
    "\n",
    "// Mutable character variable\n",
    "var grade: Char = 'B'\n",
    "println(s\"Original Grade: $grade\")\n",
    "\n",
    "// Updating character\n",
    "grade = 'A'\n",
    "println(s\"Updated Grade: $grade\")\n"
   ]
  },
  {
   "cell_type": "markdown",
   "metadata": {},
   "source": [
    "### 7) Long Literals and Variables"
   ]
  },
  {
   "cell_type": "code",
   "execution_count": 17,
   "metadata": {},
   "outputs": [
    {
     "name": "stdout",
     "output_type": "stream",
     "text": [
      "Max Long Value: 9223372036854775807\n",
      "Original User Count: 1000000000\n",
      "Updated User Count: 2000000000\n",
      "Sum of User Counts: 9800000000\n",
      "Difference in User Counts: 1500000000\n"
     ]
    },
    {
     "data": {
      "text/html": [
       "<div class=\"jp-RenderedText\">\n",
       "<pre><code><span style=\"color: rgb(0, 187, 187)\"><span class=\"ansi-cyan-fg\">earthPopulation</span></span>: <span style=\"color: rgb(0, 187, 0)\"><span class=\"ansi-green-fg\">Long</span></span> = <span style=\"color: rgb(0, 187, 0)\"><span class=\"ansi-green-fg\">7800000000L</span></span>\n",
       "<span style=\"color: rgb(0, 187, 187)\"><span class=\"ansi-cyan-fg\">distanceToMars</span></span>: <span style=\"color: rgb(0, 187, 0)\"><span class=\"ansi-green-fg\">Long</span></span> = <span style=\"color: rgb(0, 187, 0)\"><span class=\"ansi-green-fg\">225000000000L</span></span>\n",
       "<span style=\"color: rgb(0, 187, 187)\"><span class=\"ansi-cyan-fg\">maxLongValue</span></span>: <span style=\"color: rgb(0, 187, 0)\"><span class=\"ansi-green-fg\">Long</span></span> = <span style=\"color: rgb(0, 187, 0)\"><span class=\"ansi-green-fg\">9223372036854775807L</span></span>\n",
       "<span style=\"color: rgb(0, 187, 187)\"><span class=\"ansi-cyan-fg\">userCount</span></span>: <span style=\"color: rgb(0, 187, 0)\"><span class=\"ansi-green-fg\">Long</span></span> = <span style=\"color: rgb(0, 187, 0)\"><span class=\"ansi-green-fg\">2000000000L</span></span></code></pre>\n",
       "</div>"
      ],
      "text/plain": [
       "\u001b[36mearthPopulation\u001b[39m: \u001b[32mLong\u001b[39m = \u001b[32m7800000000L\u001b[39m\n",
       "\u001b[36mdistanceToMars\u001b[39m: \u001b[32mLong\u001b[39m = \u001b[32m225000000000L\u001b[39m\n",
       "\u001b[36mmaxLongValue\u001b[39m: \u001b[32mLong\u001b[39m = \u001b[32m9223372036854775807L\u001b[39m\n",
       "\u001b[36muserCount\u001b[39m: \u001b[32mLong\u001b[39m = \u001b[32m2000000000L\u001b[39m"
      ]
     },
     "metadata": {},
     "output_type": "display_data"
    }
   ],
   "source": [
    "// Long literal\n",
    "val earthPopulation: Long = 7800000000L\n",
    "val distanceToMars = 225000000000L  // Type inference as Long due to 'L' suffix\n",
    "\n",
    "// Immutable Long variable\n",
    "val maxLongValue: Long = Long.MaxValue\n",
    "println(s\"Max Long Value: $maxLongValue\")\n",
    "\n",
    "// Mutable Long variable\n",
    "var userCount: Long = 1000000000L\n",
    "println(s\"Original User Count: $userCount\")\n",
    "\n",
    "// Reassigning a new value\n",
    "userCount = 2000000000L\n",
    "println(s\"Updated User Count: $userCount\")\n",
    "\n",
    "// Operations on Long\n",
    "println(s\"Sum of User Counts: ${userCount + earthPopulation}\")\n",
    "println(s\"Difference in User Counts: ${userCount - 500000000L}\")\n"
   ]
  },
  {
   "cell_type": "markdown",
   "metadata": {},
   "source": [
    "### 8) Byte Literals and Variables"
   ]
  },
  {
   "cell_type": "code",
   "execution_count": 18,
   "metadata": {},
   "outputs": [
    {
     "name": "stdout",
     "output_type": "stream",
     "text": [
      "Byte Data: 64\n",
      "Original Byte Flag: 10\n",
      "Updated Byte Flag: 20\n",
      "Increment Byte: 21\n",
      "Decrement Byte: 19\n"
     ]
    },
    {
     "data": {
      "text/html": [
       "<div class=\"jp-RenderedText\">\n",
       "<pre><code><span style=\"color: rgb(0, 187, 187)\"><span class=\"ansi-cyan-fg\">minByteValue</span></span>: <span style=\"color: rgb(0, 187, 0)\"><span class=\"ansi-green-fg\">Byte</span></span> = <span style=\"color: rgb(0, 187, 0)\"><span class=\"ansi-green-fg\">-128</span></span>\n",
       "<span style=\"color: rgb(0, 187, 187)\"><span class=\"ansi-cyan-fg\">maxByteValue</span></span>: <span style=\"color: rgb(0, 187, 0)\"><span class=\"ansi-green-fg\">Byte</span></span> = <span style=\"color: rgb(0, 187, 0)\"><span class=\"ansi-green-fg\">127</span></span>\n",
       "<span style=\"color: rgb(0, 187, 187)\"><span class=\"ansi-cyan-fg\">byteData</span></span>: <span style=\"color: rgb(0, 187, 0)\"><span class=\"ansi-green-fg\">Byte</span></span> = <span style=\"color: rgb(0, 187, 0)\"><span class=\"ansi-green-fg\">64</span></span>\n",
       "<span style=\"color: rgb(0, 187, 187)\"><span class=\"ansi-cyan-fg\">byteFlag</span></span>: <span style=\"color: rgb(0, 187, 0)\"><span class=\"ansi-green-fg\">Byte</span></span> = <span style=\"color: rgb(0, 187, 0)\"><span class=\"ansi-green-fg\">20</span></span></code></pre>\n",
       "</div>"
      ],
      "text/plain": [
       "\u001b[36mminByteValue\u001b[39m: \u001b[32mByte\u001b[39m = \u001b[32m-128\u001b[39m\n",
       "\u001b[36mmaxByteValue\u001b[39m: \u001b[32mByte\u001b[39m = \u001b[32m127\u001b[39m\n",
       "\u001b[36mbyteData\u001b[39m: \u001b[32mByte\u001b[39m = \u001b[32m64\u001b[39m\n",
       "\u001b[36mbyteFlag\u001b[39m: \u001b[32mByte\u001b[39m = \u001b[32m20\u001b[39m"
      ]
     },
     "metadata": {},
     "output_type": "display_data"
    }
   ],
   "source": [
    "// Byte literal\n",
    "val minByteValue: Byte = -128\n",
    "val maxByteValue: Byte = 127\n",
    "\n",
    "// Immutable Byte variable\n",
    "val byteData: Byte = 64\n",
    "println(s\"Byte Data: $byteData\")\n",
    "\n",
    "// Mutable Byte variable\n",
    "var byteFlag: Byte = 10\n",
    "println(s\"Original Byte Flag: $byteFlag\")\n",
    "\n",
    "// Reassigning a new value\n",
    "byteFlag = 20\n",
    "println(s\"Updated Byte Flag: $byteFlag\")\n",
    "\n",
    "// Byte Operations\n",
    "println(s\"Increment Byte: ${(byteFlag + 1).toByte}\")  // Cast to Byte after operation\n",
    "println(s\"Decrement Byte: ${(byteFlag - 1).toByte}\")\n"
   ]
  },
  {
   "cell_type": "markdown",
   "metadata": {},
   "source": [
    "### 9) Short Literals and Variables"
   ]
  },
  {
   "cell_type": "code",
   "execution_count": 19,
   "metadata": {},
   "outputs": [
    {
     "name": "stdout",
     "output_type": "stream",
     "text": [
      "Temperature: 300\n",
      "Original Short Count: 5000\n",
      "Updated Short Count: 15000\n",
      "Double Count: 30000\n",
      "Half Count: 7500\n"
     ]
    },
    {
     "data": {
      "text/html": [
       "<div class=\"jp-RenderedText\">\n",
       "<pre><code><span style=\"color: rgb(0, 187, 187)\"><span class=\"ansi-cyan-fg\">minShortValue</span></span>: <span style=\"color: rgb(0, 187, 0)\"><span class=\"ansi-green-fg\">Short</span></span> = <span style=\"color: rgb(0, 187, 0)\"><span class=\"ansi-green-fg\">-32768</span></span>\n",
       "<span style=\"color: rgb(0, 187, 187)\"><span class=\"ansi-cyan-fg\">maxShortValue</span></span>: <span style=\"color: rgb(0, 187, 0)\"><span class=\"ansi-green-fg\">Short</span></span> = <span style=\"color: rgb(0, 187, 0)\"><span class=\"ansi-green-fg\">32767</span></span>\n",
       "<span style=\"color: rgb(0, 187, 187)\"><span class=\"ansi-cyan-fg\">shortTemperature</span></span>: <span style=\"color: rgb(0, 187, 0)\"><span class=\"ansi-green-fg\">Short</span></span> = <span style=\"color: rgb(0, 187, 0)\"><span class=\"ansi-green-fg\">300</span></span>\n",
       "<span style=\"color: rgb(0, 187, 187)\"><span class=\"ansi-cyan-fg\">shortCount</span></span>: <span style=\"color: rgb(0, 187, 0)\"><span class=\"ansi-green-fg\">Short</span></span> = <span style=\"color: rgb(0, 187, 0)\"><span class=\"ansi-green-fg\">15000</span></span></code></pre>\n",
       "</div>"
      ],
      "text/plain": [
       "\u001b[36mminShortValue\u001b[39m: \u001b[32mShort\u001b[39m = \u001b[32m-32768\u001b[39m\n",
       "\u001b[36mmaxShortValue\u001b[39m: \u001b[32mShort\u001b[39m = \u001b[32m32767\u001b[39m\n",
       "\u001b[36mshortTemperature\u001b[39m: \u001b[32mShort\u001b[39m = \u001b[32m300\u001b[39m\n",
       "\u001b[36mshortCount\u001b[39m: \u001b[32mShort\u001b[39m = \u001b[32m15000\u001b[39m"
      ]
     },
     "metadata": {},
     "output_type": "display_data"
    }
   ],
   "source": [
    "// Short literal\n",
    "val minShortValue: Short = -32768\n",
    "val maxShortValue: Short = 32767\n",
    "\n",
    "// Immutable Short variable\n",
    "val shortTemperature: Short = 300\n",
    "println(s\"Temperature: $shortTemperature\")\n",
    "\n",
    "// Mutable Short variable\n",
    "var shortCount: Short = 5000\n",
    "println(s\"Original Short Count: $shortCount\")\n",
    "\n",
    "// Reassigning a new value\n",
    "shortCount = 15000\n",
    "println(s\"Updated Short Count: $shortCount\")\n",
    "\n",
    "// Short Operations\n",
    "println(s\"Double Count: ${(shortCount * 2).toShort}\")  // Cast to Short after operation\n",
    "println(s\"Half Count: ${(shortCount / 2).toShort}\")\n"
   ]
  }
 ],
 "metadata": {
  "kernelspec": {
   "display_name": "Scala",
   "language": "scala",
   "name": "scala"
  },
  "language_info": {
   "codemirror_mode": "text/x-scala",
   "file_extension": ".sc",
   "mimetype": "text/x-scala",
   "name": "scala",
   "nbconvert_exporter": "script",
   "version": "2.13.14"
  }
 },
 "nbformat": 4,
 "nbformat_minor": 2
}

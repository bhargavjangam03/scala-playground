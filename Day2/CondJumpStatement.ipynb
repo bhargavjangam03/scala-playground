{
 "cells": [
  {
   "cell_type": "markdown",
   "metadata": {},
   "source": [
    "# Conditional and Jump Statements"
   ]
  },
  {
   "cell_type": "markdown",
   "metadata": {},
   "source": [
    "### 1) If-Else Statements"
   ]
  },
  {
   "cell_type": "code",
   "execution_count": 5,
   "metadata": {},
   "outputs": [
    {
     "name": "stdout",
     "output_type": "stream",
     "text": [
      "Category: Adult\n",
      "Is Adult? Yes\n"
     ]
    },
    {
     "data": {
      "text/plain": [
       "\u001b[36mage\u001b[39m: \u001b[32mInt\u001b[39m = \u001b[32m20\u001b[39m\n",
       "\u001b[36mcategory\u001b[39m: \u001b[32mString\u001b[39m = \u001b[32m\"Adult\"\u001b[39m\n",
       "\u001b[36misAdult\u001b[39m: \u001b[32mString\u001b[39m = \u001b[32m\"Yes\"\u001b[39m"
      ]
     },
     "execution_count": 5,
     "metadata": {},
     "output_type": "execute_result"
    }
   ],
   "source": [
    "// Example of if-else\n",
    "val age = 20\n",
    "val category = if (age < 13) {\n",
    "  \"Child\"\n",
    "} else if (age < 20) {\n",
    "  \"Teenager\"\n",
    "} else {\n",
    "  \"Adult\"\n",
    "}\n",
    "println(s\"Category: $category\")\n",
    "\n",
    "// If-else in a one-liner\n",
    "val isAdult = if (age >= 18) \"Yes\" else \"No\"\n",
    "println(s\"Is Adult? $isAdult\")\n"
   ]
  },
  {
   "cell_type": "markdown",
   "metadata": {},
   "source": [
    "### 2) Nested If-Else Statements"
   ]
  },
  {
   "cell_type": "code",
   "execution_count": 6,
   "metadata": {},
   "outputs": [
    {
     "name": "stdout",
     "output_type": "stream",
     "text": [
      "Grade: B\n"
     ]
    },
    {
     "data": {
      "text/plain": [
       "\u001b[36mscore\u001b[39m: \u001b[32mInt\u001b[39m = \u001b[32m85\u001b[39m\n",
       "\u001b[36mgrade\u001b[39m: \u001b[32mString\u001b[39m = \u001b[32m\"B\"\u001b[39m"
      ]
     },
     "execution_count": 6,
     "metadata": {},
     "output_type": "execute_result"
    }
   ],
   "source": [
    "val score = 85\n",
    "\n",
    "val grade = if (score >= 90) {\n",
    "  \"A\"\n",
    "} else if (score >= 80) {\n",
    "  \"B\"\n",
    "} else if (score >= 70) {\n",
    "  \"C\"\n",
    "} else {\n",
    "  \"D\"\n",
    "}\n",
    "\n",
    "println(s\"Grade: $grade\")\n"
   ]
  },
  {
   "cell_type": "markdown",
   "metadata": {},
   "source": [
    "### 3) Match Statement (Similar to Switch Case)"
   ]
  },
  {
   "cell_type": "code",
   "execution_count": 7,
   "metadata": {},
   "outputs": [
    {
     "name": "stdout",
     "output_type": "stream",
     "text": [
      "Activity: Gym\n"
     ]
    },
    {
     "data": {
      "text/plain": [
       "\u001b[36mday\u001b[39m: \u001b[32mString\u001b[39m = \u001b[32m\"Monday\"\u001b[39m\n",
       "\u001b[36mactivity\u001b[39m: \u001b[32mString\u001b[39m = \u001b[32m\"Gym\"\u001b[39m"
      ]
     },
     "execution_count": 7,
     "metadata": {},
     "output_type": "execute_result"
    }
   ],
   "source": [
    "val day = \"Monday\"\n",
    "\n",
    "val activity = day match {\n",
    "  case \"Monday\" | \"Wednesday\" | \"Friday\" => \"Gym\"\n",
    "  case \"Tuesday\" | \"Thursday\"            => \"Swimming\"\n",
    "  case \"Saturday\"                        => \"Hiking\"\n",
    "  case \"Sunday\"                          => \"Rest\"\n",
    "  case _                                 => \"Unknown\"\n",
    "}\n",
    "\n",
    "println(s\"Activity: $activity\")\n"
   ]
  },
  {
   "cell_type": "markdown",
   "metadata": {},
   "source": [
    "### 4) Jump Statements"
   ]
  },
  {
   "cell_type": "code",
   "execution_count": 8,
   "metadata": {},
   "outputs": [
    {
     "name": "stdout",
     "output_type": "stream",
     "text": [
      "1\n",
      "2\n",
      "3\n",
      "4\n",
      "Loop with break completed\n",
      "1\n",
      "3\n",
      "5\n",
      "7\n",
      "9\n"
     ]
    },
    {
     "data": {
      "text/plain": [
       "\u001b[32mimport \u001b[39m\u001b[36mscala.util.control.Breaks._\u001b[39m"
      ]
     },
     "execution_count": 8,
     "metadata": {},
     "output_type": "execute_result"
    }
   ],
   "source": [
    "import scala.util.control.Breaks._\n",
    "\n",
    "// for loop inside breakable\n",
    "breakable {\n",
    "  for (i <- 1 to 10) {\n",
    "    if (i == 5) break() // Breaks out of the loop when i is 5\n",
    "    println(i)\n",
    "  }\n",
    "}\n",
    "\n",
    "println(\"Loop with break completed\")\n",
    "\n",
    "// breakable inside for loop \n",
    "// Simulate Continue (Skip to Next Iteration)\n",
    "for (i <- 1 to 10) {\n",
    "  breakable {\n",
    "    if (i % 2 == 0) break() // Skips even numbers\n",
    "    println(i)\n",
    "  }\n",
    "}\n"
   ]
  }
 ],
 "metadata": {
  "kernelspec": {
   "display_name": "Scala",
   "language": "scala",
   "name": "scala"
  },
  "language_info": {
   "codemirror_mode": "text/x-scala",
   "file_extension": ".sc",
   "mimetype": "text/x-scala",
   "name": "scala",
   "nbconvert_exporter": "script",
   "version": "2.13.14"
  }
 },
 "nbformat": 4,
 "nbformat_minor": 2
}

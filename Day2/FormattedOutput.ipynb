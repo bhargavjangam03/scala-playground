{
 "cells": [
  {
   "cell_type": "code",
   "execution_count": 1,
   "metadata": {},
   "outputs": [
    {
     "name": "stdout",
     "output_type": "stream",
     "text": [
      "Hello, World!\n",
      "Hello, World!"
     ]
    }
   ],
   "source": [
    "println(\"Hello, World!\")   // prints with newline\n",
    "print(\"Hello, World!\")      // prints without newline\n"
   ]
  },
  {
   "cell_type": "code",
   "execution_count": null,
   "metadata": {},
   "outputs": [],
   "source": [
    "val name = \"Alice\"\n",
    "println(s\"Hello, $name\")  // Output: Hello, Alice\n"
   ]
  },
  {
   "cell_type": "code",
   "execution_count": null,
   "metadata": {},
   "outputs": [],
   "source": [
    "val height = 1.75\n",
    "println(f\"$name%s is $height%1.2f meters tall\")  // Output: Alice is 1.75 meters tall\n"
   ]
  },
  {
   "cell_type": "code",
   "execution_count": 2,
   "metadata": {},
   "outputs": [
    {
     "name": "stdout",
     "output_type": "stream",
     "text": [
      "Hello\n",
      "World\n"
     ]
    }
   ],
   "source": [
    "println(raw\"Hello\\nWorld\")  // Output: Hello\\nWorld\n"
   ]
  },
  {
   "cell_type": "code",
   "execution_count": null,
   "metadata": {},
   "outputs": [],
   "source": [
    "val count = 5\n",
    "printf(\"We have %d items in stock.\\n\", count)  // Output: We have 5 items in stock.\n"
   ]
  },
  {
   "cell_type": "code",
   "execution_count": null,
   "metadata": {},
   "outputs": [],
   "source": [
    "val score = 85.56789\n",
    "val formatted = String.format(\"Score: %.2f\", score.asInstanceOf[AnyRef])\n",
    "println(formatted)  // Output: Score: 85.57\n"
   ]
  },
  {
   "cell_type": "code",
   "execution_count": null,
   "metadata": {},
   "outputs": [],
   "source": [
    "val items = List(\"Apple\", \"Banana\", \"Orange\")\n",
    "items.zipWithIndex.foreach { case (item, index) => println(f\"$index%d: $item%s\") }\n",
    "// Output:\n",
    "// 0: Apple\n",
    "// 1: Banana\n",
    "// 2: Orange\n"
   ]
  },
  {
   "cell_type": "code",
   "execution_count": null,
   "metadata": {},
   "outputs": [],
   "source": [
    "import play.api.libs.json.Json\n",
    "val data = Map(\"name\" -> \"Alice\", \"age\" -> 25)\n",
    "println(Json.toJson(data))  // Output: {\"name\":\"Alice\",\"age\":25}\n"
   ]
  }
 ],
 "metadata": {
  "kernelspec": {
   "display_name": "Scala",
   "language": "scala",
   "name": "scala"
  },
  "language_info": {
   "codemirror_mode": "text/x-scala",
   "file_extension": ".sc",
   "mimetype": "text/x-scala",
   "name": "scala",
   "nbconvert_exporter": "script",
   "version": "2.13.14"
  }
 },
 "nbformat": 4,
 "nbformat_minor": 2
}

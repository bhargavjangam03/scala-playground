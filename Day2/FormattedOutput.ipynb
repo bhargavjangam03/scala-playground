{
 "cells": [
  {
   "cell_type": "markdown",
   "metadata": {},
   "source": [
    "# Various Formatted Ouputs in Scala"
   ]
  },
  {
   "cell_type": "markdown",
   "metadata": {},
   "source": [
    "### 1) Println and Print"
   ]
  },
  {
   "cell_type": "code",
   "execution_count": 1,
   "metadata": {},
   "outputs": [
    {
     "name": "stdout",
     "output_type": "stream",
     "text": [
      "Hello, World!\n",
      "Hello, World!"
     ]
    }
   ],
   "source": [
    "println(\"Hello, World!\")   // println -prints next statement in newline\n",
    "print(\"Hello, World!\")    // print - prints next statement in same line"
   ]
  },
  {
   "cell_type": "markdown",
   "metadata": {},
   "source": [
    "### 2) s-interpolator: Allows embedding variables directly in strings using "
   ]
  },
  {
   "cell_type": "code",
   "execution_count": 6,
   "metadata": {},
   "outputs": [
    {
     "name": "stdout",
     "output_type": "stream",
     "text": [
      "Hello, Alice\n"
     ]
    },
    {
     "data": {
      "text/plain": [
       "\u001b[36mname\u001b[39m: \u001b[32mString\u001b[39m = \u001b[32m\"Alice\"\u001b[39m"
      ]
     },
     "execution_count": 6,
     "metadata": {},
     "output_type": "execute_result"
    }
   ],
   "source": [
    "val name = \"Alice\"\n",
    "println(s\"Hello, $name\") \n"
   ]
  },
  {
   "cell_type": "markdown",
   "metadata": {},
   "source": [
    "### 3) f-interpolator: Provides formatted strings with type-safe placeholders "
   ]
  },
  {
   "cell_type": "code",
   "execution_count": 15,
   "metadata": {},
   "outputs": [
    {
     "name": "stdout",
     "output_type": "stream",
     "text": [
      "Alice is 1.76 meters tall\n"
     ]
    },
    {
     "data": {
      "text/plain": [
       "\u001b[36mheight\u001b[39m: \u001b[32mDouble\u001b[39m = \u001b[32m1.7577\u001b[39m"
      ]
     },
     "execution_count": 15,
     "metadata": {},
     "output_type": "execute_result"
    }
   ],
   "source": [
    "val height = 1.7577\n",
    "println(f\"$name%s is $height%1.2f meters tall\") \n"
   ]
  },
  {
   "cell_type": "markdown",
   "metadata": {},
   "source": [
    "### 4) raw-interpolator: Interprets escape characters as raw text (e.g., \\n is printed as \\n)."
   ]
  },
  {
   "cell_type": "code",
   "execution_count": 5,
   "metadata": {},
   "outputs": [
    {
     "name": "stdout",
     "output_type": "stream",
     "text": [
      "Hello\\nWorld\n"
     ]
    }
   ],
   "source": [
    "println(raw\"Hello\\nWorld\")  \n"
   ]
  },
  {
   "cell_type": "markdown",
   "metadata": {},
   "source": [
    "### 5) printf for C-style Formatting"
   ]
  },
  {
   "cell_type": "code",
   "execution_count": null,
   "metadata": {},
   "outputs": [],
   "source": [
    "val count = 5\n",
    "printf(\"We have %d items in stock.\\n\", count)  \n"
   ]
  },
  {
   "cell_type": "markdown",
   "metadata": {},
   "source": [
    "### 6) Custom Formatting with String.format"
   ]
  },
  {
   "cell_type": "code",
   "execution_count": 4,
   "metadata": {},
   "outputs": [
    {
     "name": "stdout",
     "output_type": "stream",
     "text": [
      "Score: 85.57\n"
     ]
    },
    {
     "data": {
      "text/plain": [
       "\u001b[36mscore\u001b[39m: \u001b[32mDouble\u001b[39m = \u001b[32m85.56789\u001b[39m\n",
       "\u001b[36mformatted\u001b[39m: \u001b[32mString\u001b[39m = \u001b[32m\"Score: 85.57\"\u001b[39m"
      ]
     },
     "execution_count": 4,
     "metadata": {},
     "output_type": "execute_result"
    }
   ],
   "source": [
    "val score = 85.56789\n",
    "val formatted = String.format(\"Score: %.2f\", score.asInstanceOf[AnyRef])\n",
    "println(formatted) \n"
   ]
  },
  {
   "cell_type": "markdown",
   "metadata": {},
   "source": [
    "### 7) Looping for Tabular Output\n",
    "* For multi-line or tabular data, using for loops or .map with formatted output can be useful"
   ]
  },
  {
   "cell_type": "code",
   "execution_count": 3,
   "metadata": {},
   "outputs": [
    {
     "name": "stdout",
     "output_type": "stream",
     "text": [
      "0: Apple\n",
      "1: Banana\n",
      "2: Orange\n"
     ]
    },
    {
     "data": {
      "text/plain": [
       "\u001b[36mitems\u001b[39m: \u001b[32mList\u001b[39m[\u001b[32mString\u001b[39m] = \u001b[33mList\u001b[39m(\u001b[32m\"Apple\"\u001b[39m, \u001b[32m\"Banana\"\u001b[39m, \u001b[32m\"Orange\"\u001b[39m)"
      ]
     },
     "execution_count": 3,
     "metadata": {},
     "output_type": "execute_result"
    }
   ],
   "source": [
    "val items = List(\"Apple\", \"Banana\", \"Orange\")\n",
    "items.zipWithIndex.foreach { case (item, index) => println(f\"$index%d: $item%s\") }\n",
    "\n"
   ]
  },
  {
   "cell_type": "markdown",
   "metadata": {},
   "source": [
    "### 8)JSON-like Output\n"
   ]
  },
  {
   "cell_type": "code",
   "execution_count": 17,
   "metadata": {},
   "outputs": [
    {
     "name": "stdout",
     "output_type": "stream",
     "text": [
      "{\n",
      "  \"name\" : \"Alice\",\n",
      "  \"age\" : 25\n",
      "}\n"
     ]
    },
    {
     "data": {
      "text/plain": [
       "\u001b[32mimport \u001b[39m\u001b[36m$ivy.$\u001b[39m\n",
       "\u001b[32mimport \u001b[39m\u001b[36mplay.api.libs.json.{Json, Writes}\u001b[39m\n",
       "defined \u001b[32mclass\u001b[39m \u001b[36mPerson\u001b[39m\n",
       "\u001b[36mpersonWrites\u001b[39m: \u001b[32mWrites\u001b[39m[\u001b[32mPerson\u001b[39m] = play.api.libs.json.OWrites$$anon$4@12f4f09\n",
       "\u001b[36mperson\u001b[39m: \u001b[32mPerson\u001b[39m = \u001b[33mPerson\u001b[39m(name = \u001b[32m\"Alice\"\u001b[39m, age = \u001b[32m25\u001b[39m)\n",
       "\u001b[36mjsonPerson\u001b[39m: \u001b[32mplay\u001b[39m.\u001b[32mapi\u001b[39m.\u001b[32mlibs\u001b[39m.\u001b[32mjson\u001b[39m.\u001b[32mJsValue\u001b[39m = \u001b[33mJsObject\u001b[39m(\n",
       "  underlying = \u001b[33mMap\u001b[39m(\n",
       "    \u001b[32m\"name\"\u001b[39m -> \u001b[33mJsString\u001b[39m(value = \u001b[32m\"Alice\"\u001b[39m),\n",
       "    \u001b[32m\"age\"\u001b[39m -> \u001b[33mJsNumber\u001b[39m(value = 25)\n",
       "  )\n",
       ")"
      ]
     },
     "execution_count": 17,
     "metadata": {},
     "output_type": "execute_result"
    }
   ],
   "source": [
    "// Load the necessary dependency\n",
    "import $ivy.`com.typesafe.play::play-json:2.9.2`\n",
    "import play.api.libs.json.{Json, Writes}\n",
    "\n",
    "// Define a case class and create an implicit Writes to convert it to JSON\n",
    "case class Person(name: String, age: Int)\n",
    "implicit val personWrites: Writes[Person] = Json.writes[Person]\n",
    "\n",
    "// Create a JSON representation\n",
    "val person = Person(\"Alice\", 25)\n",
    "val jsonPerson = Json.toJson(person)\n",
    "\n",
    "// Print the JSON in a formatted way\n",
    "println(Json.prettyPrint(jsonPerson))\n"
   ]
  }
 ],
 "metadata": {
  "kernelspec": {
   "display_name": "Scala",
   "language": "scala",
   "name": "scala"
  },
  "language_info": {
   "codemirror_mode": "text/x-scala",
   "file_extension": ".sc",
   "mimetype": "text/x-scala",
   "name": "scala",
   "nbconvert_exporter": "script",
   "version": "2.13.14"
  }
 },
 "nbformat": 4,
 "nbformat_minor": 2
}

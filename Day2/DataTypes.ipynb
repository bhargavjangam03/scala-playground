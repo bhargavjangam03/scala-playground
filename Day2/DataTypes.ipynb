{
 "cells": [
  {
   "cell_type": "markdown",
   "metadata": {},
   "source": [
    "# Datatypes in Scala"
   ]
  },
  {
   "cell_type": "markdown",
   "metadata": {},
   "source": [
    "### 1) Integer Operations"
   ]
  },
  {
   "cell_type": "code",
   "execution_count": 9,
   "metadata": {},
   "outputs": [
    {
     "name": "stdout",
     "output_type": "stream",
     "text": [
      "Addition: 19\n",
      "Subtraction: 11\n",
      "Multiplication: 60\n",
      "Division: 3\n",
      "Modulus: 3\n",
      "Power: 225.0\n"
     ]
    },
    {
     "data": {
      "text/plain": [
       "\u001b[36mnum1\u001b[39m: \u001b[32mInt\u001b[39m = \u001b[32m15\u001b[39m\n",
       "\u001b[36mnum2\u001b[39m: \u001b[32mInt\u001b[39m = \u001b[32m4\u001b[39m"
      ]
     },
     "execution_count": 9,
     "metadata": {},
     "output_type": "execute_result"
    }
   ],
   "source": [
    "\n",
    "\n",
    "// Integer declaration\n",
    "val num1: Int = 15\n",
    "val num2: Int = 4\n",
    "\n",
    "// Basic operations\n",
    "println(s\"Addition: ${num1 + num2}\")\n",
    "println(s\"Subtraction: ${num1 - num2}\")\n",
    "println(s\"Multiplication: ${num1 * num2}\")\n",
    "println(s\"Division: ${num1 / num2}\")\n",
    "println(s\"Modulus: ${num1 % num2}\")\n",
    "println(s\"Power: ${math.pow(num1, 2)}\")\n"
   ]
  },
  {
   "cell_type": "markdown",
   "metadata": {},
   "source": [
    "### 2) Double Operations "
   ]
  },
  {
   "cell_type": "code",
   "execution_count": 10,
   "metadata": {},
   "outputs": [
    {
     "name": "stdout",
     "output_type": "stream",
     "text": [
      "Addition: 8.1\n",
      "Subtraction: 3.3000000000000003\n",
      "Multiplication: 13.68\n",
      "Division: 2.375\n",
      "Rounded: 6\n",
      "Floor: 5.0\n",
      "Ceiling: 6.0\n",
      "Square Root: 2.3874672772626644\n"
     ]
    },
    {
     "data": {
      "text/plain": [
       "\u001b[36mx\u001b[39m: \u001b[32mDouble\u001b[39m = \u001b[32m5.7\u001b[39m\n",
       "\u001b[36my\u001b[39m: \u001b[32mDouble\u001b[39m = \u001b[32m2.4\u001b[39m"
      ]
     },
     "execution_count": 10,
     "metadata": {},
     "output_type": "execute_result"
    }
   ],
   "source": [
    "// Double declaration\n",
    "val x: Double = 5.7\n",
    "val y: Double = 2.4\n",
    "\n",
    "// Basic operations\n",
    "println(s\"Addition: ${x + y}\")\n",
    "println(s\"Subtraction: ${x - y}\")\n",
    "println(s\"Multiplication: ${x * y}\")\n",
    "println(s\"Division: ${x / y}\")\n",
    "\n",
    "// Rounding and other operations\n",
    "println(s\"Rounded: ${x.round}\")\n",
    "println(s\"Floor: ${x.floor}\")\n",
    "println(s\"Ceiling: ${x.ceil}\")\n",
    "println(s\"Square Root: ${math.sqrt(x)}\")\n"
   ]
  },
  {
   "cell_type": "markdown",
   "metadata": {},
   "source": [
    "### 3) Float Operations "
   ]
  },
  {
   "cell_type": "code",
   "execution_count": 11,
   "metadata": {},
   "outputs": [
    {
     "name": "stdout",
     "output_type": "stream",
     "text": [
      "Addition: 5.7\n",
      "Subtraction: 2.6999998\n",
      "Multiplication: 6.2999997\n",
      "Division: 2.8\n",
      "Float to Double: 4.199999809265137\n"
     ]
    },
    {
     "data": {
      "text/plain": [
       "\u001b[36mf1\u001b[39m: \u001b[32mFloat\u001b[39m = \u001b[32m4.2F\u001b[39m\n",
       "\u001b[36mf2\u001b[39m: \u001b[32mFloat\u001b[39m = \u001b[32m1.5F\u001b[39m\n",
       "\u001b[36mdoubleVal\u001b[39m: \u001b[32mDouble\u001b[39m = \u001b[32m4.199999809265137\u001b[39m"
      ]
     },
     "execution_count": 11,
     "metadata": {},
     "output_type": "execute_result"
    }
   ],
   "source": [
    "// Float declaration\n",
    "val f1: Float = 4.2f\n",
    "val f2: Float = 1.5f\n",
    "\n",
    "// Basic operations\n",
    "println(s\"Addition: ${f1 + f2}\")\n",
    "println(s\"Subtraction: ${f1 - f2}\")\n",
    "println(s\"Multiplication: ${f1 * f2}\")\n",
    "println(s\"Division: ${f1 / f2}\")\n",
    "\n",
    "// Casting to Double\n",
    "val doubleVal: Double = f1.toDouble\n",
    "println(s\"Float to Double: $doubleVal\")\n"
   ]
  },
  {
   "cell_type": "markdown",
   "metadata": {},
   "source": [
    "### 4) Boolean Operations"
   ]
  },
  {
   "cell_type": "code",
   "execution_count": 12,
   "metadata": {},
   "outputs": [
    {
     "name": "stdout",
     "output_type": "stream",
     "text": [
      "AND: false\n",
      "OR: true\n",
      "NOT: false\n",
      "Is 10 greater than 20? false\n",
      "Is 10 less than or equal to 20? true\n"
     ]
    },
    {
     "data": {
      "text/plain": [
       "\u001b[36mbool1\u001b[39m: \u001b[32mBoolean\u001b[39m = \u001b[32mtrue\u001b[39m\n",
       "\u001b[36mbool2\u001b[39m: \u001b[32mBoolean\u001b[39m = \u001b[32mfalse\u001b[39m\n",
       "\u001b[36mnum1\u001b[39m: \u001b[32mInt\u001b[39m = \u001b[32m10\u001b[39m\n",
       "\u001b[36mnum2\u001b[39m: \u001b[32mInt\u001b[39m = \u001b[32m20\u001b[39m"
      ]
     },
     "execution_count": 12,
     "metadata": {},
     "output_type": "execute_result"
    }
   ],
   "source": [
    "// Boolean declaration\n",
    "val bool1: Boolean = true\n",
    "val bool2: Boolean = false\n",
    "\n",
    "// Logical operations\n",
    "println(s\"AND: ${bool1 && bool2}\")\n",
    "println(s\"OR: ${bool1 || bool2}\")\n",
    "println(s\"NOT: ${!bool1}\")\n",
    "\n",
    "// Comparison operations\n",
    "val num1 = 10\n",
    "val num2 = 20\n",
    "println(s\"Is $num1 greater than $num2? ${num1 > num2}\")\n",
    "println(s\"Is $num1 less than or equal to $num2? ${num1 <= num2}\")\n"
   ]
  },
  {
   "cell_type": "markdown",
   "metadata": {},
   "source": [
    "### 5) String Operations"
   ]
  },
  {
   "cell_type": "code",
   "execution_count": 13,
   "metadata": {},
   "outputs": [
    {
     "name": "stdout",
     "output_type": "stream",
     "text": [
      "Concatenation: Hello Scala\n",
      "Length: 5\n",
      "First Character: H\n",
      "Substring: ell\n",
      "Uppercase: HELLO\n",
      "Lowercase: scala\n",
      "Replace: Hallo\n"
     ]
    },
    {
     "data": {
      "text/plain": [
       "\u001b[36mstr1\u001b[39m: \u001b[32mString\u001b[39m = \u001b[32m\"Hello\"\u001b[39m\n",
       "\u001b[36mstr2\u001b[39m: \u001b[32mString\u001b[39m = \u001b[32m\"Scala\"\u001b[39m\n",
       "\u001b[36mconcatenated\u001b[39m: \u001b[32mString\u001b[39m = \u001b[32m\"Hello Scala\"\u001b[39m"
      ]
     },
     "execution_count": 13,
     "metadata": {},
     "output_type": "execute_result"
    }
   ],
   "source": [
    "// String declaration\n",
    "val str1: String = \"Hello\"\n",
    "val str2: String = \"Scala\"\n",
    "\n",
    "// Concatenation\n",
    "val concatenated = str1 + \" \" + str2\n",
    "println(s\"Concatenation: $concatenated\")\n",
    "\n",
    "// Length and accessing characters\n",
    "println(s\"Length: ${str1.length}\")\n",
    "println(s\"First Character: ${str1.charAt(0)}\")\n",
    "\n",
    "// Substring and other methods\n",
    "println(s\"Substring: ${str1.substring(1, 4)}\")\n",
    "println(s\"Uppercase: ${str1.toUpperCase}\")\n",
    "println(s\"Lowercase: ${str2.toLowerCase}\")\n",
    "println(s\"Replace: ${str1.replace('e', 'a')}\")\n"
   ]
  },
  {
   "cell_type": "markdown",
   "metadata": {},
   "source": [
    "### 6) Character Operations"
   ]
  },
  {
   "cell_type": "code",
   "execution_count": 14,
   "metadata": {},
   "outputs": [
    {
     "name": "stdout",
     "output_type": "stream",
     "text": [
      "ASCII value of 'A': 65\n",
      "Lowercase of 'A': a\n",
      "Is Digit: false\n",
      "Is Letter: true\n"
     ]
    },
    {
     "data": {
      "text/plain": [
       "\u001b[36mch\u001b[39m: \u001b[32mChar\u001b[39m = \u001b[32m'A'\u001b[39m"
      ]
     },
     "execution_count": 14,
     "metadata": {},
     "output_type": "execute_result"
    }
   ],
   "source": [
    "// Character declaration\n",
    "val ch: Char = 'A'\n",
    "\n",
    "// ASCII value\n",
    "println(s\"ASCII value of '$ch': ${ch.toInt}\")\n",
    "\n",
    "// Conversion to lower case\n",
    "println(s\"Lowercase of '$ch': ${ch.toLower}\")\n",
    "println(s\"Is Digit: ${ch.isDigit}\")\n",
    "println(s\"Is Letter: ${ch.isLetter}\")\n"
   ]
  },
  {
   "cell_type": "markdown",
   "metadata": {},
   "source": [
    "### 7) Long Operations"
   ]
  },
  {
   "cell_type": "code",
   "execution_count": 15,
   "metadata": {},
   "outputs": [
    {
     "name": "stdout",
     "output_type": "stream",
     "text": [
      "Addition: 3000000000\n",
      "Subtraction: -1000000000\n",
      "Multiplication: 2000000000000000000\n",
      "Division: 1000000\n"
     ]
    },
    {
     "data": {
      "text/plain": [
       "\u001b[36mlongNum\u001b[39m: \u001b[32mLong\u001b[39m = \u001b[32m1000000000L\u001b[39m\n",
       "\u001b[36manotherLong\u001b[39m: \u001b[32mLong\u001b[39m = \u001b[32m2000000000L\u001b[39m"
      ]
     },
     "execution_count": 15,
     "metadata": {},
     "output_type": "execute_result"
    }
   ],
   "source": [
    "// Long declaration\n",
    "val longNum: Long = 1000000000L\n",
    "val anotherLong: Long = 2000000000L\n",
    "\n",
    "// Basic operations\n",
    "println(s\"Addition: ${longNum + anotherLong}\")\n",
    "println(s\"Subtraction: ${longNum - anotherLong}\")\n",
    "println(s\"Multiplication: ${longNum * anotherLong}\")\n",
    "println(s\"Division: ${longNum / 1000L}\")\n"
   ]
  },
  {
   "cell_type": "markdown",
   "metadata": {},
   "source": [
    "### 8) Byte and Short Operations"
   ]
  },
  {
   "cell_type": "code",
   "execution_count": 16,
   "metadata": {},
   "outputs": [
    {
     "name": "stdout",
     "output_type": "stream",
     "text": [
      "Byte + Short: 110\n",
      "Byte to Int: 10\n",
      "Short to Double: 100.0\n"
     ]
    },
    {
     "data": {
      "text/plain": [
       "\u001b[36mbyteNum\u001b[39m: \u001b[32mByte\u001b[39m = \u001b[32m10\u001b[39m\n",
       "\u001b[36mshortNum\u001b[39m: \u001b[32mShort\u001b[39m = \u001b[32m100\u001b[39m"
      ]
     },
     "execution_count": 16,
     "metadata": {},
     "output_type": "execute_result"
    }
   ],
   "source": [
    "// Byte declaration\n",
    "val byteNum: Byte = 10\n",
    "val shortNum: Short = 100\n",
    "\n",
    "// Basic operations\n",
    "println(s\"Byte + Short: ${byteNum + shortNum}\")\n",
    "println(s\"Byte to Int: ${byteNum.toInt}\")\n",
    "println(s\"Short to Double: ${shortNum.toDouble}\")\n"
   ]
  }
 ],
 "metadata": {
  "kernelspec": {
   "display_name": "Scala",
   "language": "scala",
   "name": "scala"
  },
  "language_info": {
   "codemirror_mode": "text/x-scala",
   "file_extension": ".sc",
   "mimetype": "text/x-scala",
   "name": "scala",
   "nbconvert_exporter": "script",
   "version": "2.13.14"
  }
 },
 "nbformat": 4,
 "nbformat_minor": 2
}

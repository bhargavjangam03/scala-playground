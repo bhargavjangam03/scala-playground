{
 "cells": [
  {
   "cell_type": "markdown",
   "metadata": {},
   "source": [
    "# Selection Statements"
   ]
  },
  {
   "cell_type": "markdown",
   "metadata": {},
   "source": [
    "### 1) If-Else Statements"
   ]
  },
  {
   "cell_type": "code",
   "execution_count": 1,
   "metadata": {},
   "outputs": [
    {
     "name": "stdout",
     "output_type": "stream",
     "text": [
      "Weather: Hot\n"
     ]
    },
    {
     "data": {
      "text/plain": [
       "\u001b[36mtemperature\u001b[39m: \u001b[32mInt\u001b[39m = \u001b[32m30\u001b[39m\n",
       "\u001b[36mweather\u001b[39m: \u001b[32mString\u001b[39m = \u001b[32m\"Hot\"\u001b[39m"
      ]
     },
     "execution_count": 1,
     "metadata": {},
     "output_type": "execute_result"
    }
   ],
   "source": [
    "// If-Else Statement\n",
    "val temperature = 30\n",
    "\n",
    "val weather = if (temperature > 25) {\n",
    "  \"Hot\"\n",
    "} else if (temperature > 15) {\n",
    "  \"Warm\"\n",
    "} else {\n",
    "  \"Cold\"\n",
    "}\n",
    "println(s\"Weather: $weather\")  \n"
   ]
  },
  {
   "cell_type": "markdown",
   "metadata": {},
   "source": [
    "### 2) Nested If-Else Statements"
   ]
  },
  {
   "cell_type": "code",
   "execution_count": 2,
   "metadata": {},
   "outputs": [
    {
     "name": "stdout",
     "output_type": "stream",
     "text": [
      "Grade: B\n"
     ]
    },
    {
     "data": {
      "text/plain": [
       "\u001b[36mmarks\u001b[39m: \u001b[32mInt\u001b[39m = \u001b[32m85\u001b[39m\n",
       "\u001b[36mgrade\u001b[39m: \u001b[32mString\u001b[39m = \u001b[32m\"B\"\u001b[39m"
      ]
     },
     "execution_count": 2,
     "metadata": {},
     "output_type": "execute_result"
    }
   ],
   "source": [
    "// Nested If-Else Statement\n",
    "val marks = 85\n",
    "\n",
    "val grade = if (marks >= 90) {\n",
    "  \"A\"\n",
    "} else if (marks >= 80) {\n",
    "  \"B\"\n",
    "} else if (marks >= 70) {\n",
    "  \"C\"\n",
    "} else {\n",
    "  \"D\"\n",
    "}\n",
    "println(s\"Grade: $grade\")  \n"
   ]
  },
  {
   "cell_type": "markdown",
   "metadata": {},
   "source": [
    "### 3) Match Statement (Similar to Switch Case)"
   ]
  },
  {
   "cell_type": "code",
   "execution_count": 3,
   "metadata": {},
   "outputs": [
    {
     "name": "stdout",
     "output_type": "stream",
     "text": [
      "Activity: Gym\n"
     ]
    },
    {
     "data": {
      "text/plain": [
       "\u001b[36mday\u001b[39m: \u001b[32mString\u001b[39m = \u001b[32m\"Monday\"\u001b[39m\n",
       "\u001b[36mactivity\u001b[39m: \u001b[32mString\u001b[39m = \u001b[32m\"Gym\"\u001b[39m"
      ]
     },
     "execution_count": 3,
     "metadata": {},
     "output_type": "execute_result"
    }
   ],
   "source": [
    "val day = \"Monday\"\n",
    "\n",
    "val activity = day match {\n",
    "  case \"Monday\" | \"Wednesday\" | \"Friday\" => \"Gym\"\n",
    "  case \"Tuesday\" | \"Thursday\"            => \"Swimming\"\n",
    "  case \"Saturday\"                        => \"Hiking\"\n",
    "  case \"Sunday\"                          => \"Rest\"\n",
    "  case _                                 => \"Unknown\"\n",
    "}\n",
    "\n",
    "println(s\"Activity: $activity\")\n"
   ]
  },
  {
   "cell_type": "markdown",
   "metadata": {},
   "source": [
    "### 4) Pattern Matching with Case Classes"
   ]
  },
  {
   "cell_type": "code",
   "execution_count": 4,
   "metadata": {},
   "outputs": [
    {
     "name": "stdout",
     "output_type": "stream",
     "text": [
      "Alice is 30 years old.\n"
     ]
    },
    {
     "data": {
      "text/plain": [
       "defined \u001b[32mclass\u001b[39m \u001b[36mPerson\u001b[39m\n",
       "\u001b[36mperson\u001b[39m: \u001b[32mPerson\u001b[39m = \u001b[33mPerson\u001b[39m(name = \u001b[32m\"Alice\"\u001b[39m, age = \u001b[32m30\u001b[39m)\n",
       "\u001b[36mdescription\u001b[39m: \u001b[32mString\u001b[39m = \u001b[32m\"Alice is 30 years old.\"\u001b[39m"
      ]
     },
     "execution_count": 4,
     "metadata": {},
     "output_type": "execute_result"
    }
   ],
   "source": [
    "// Pattern Matching with Case Classes\n",
    "case class Person(name: String, age: Int)\n",
    "\n",
    "val person = Person(\"Alice\", 30)\n",
    "\n",
    "val description = person match {\n",
    "  case Person(\"Alice\", age) => s\"Alice is $age years old.\"\n",
    "  case Person(name, age) if age < 18 => s\"$name is a minor.\"\n",
    "  case Person(name, age) => s\"$name is an adult.\"\n",
    "}\n",
    "println(description)  \n"
   ]
  },
  {
   "cell_type": "markdown",
   "metadata": {},
   "source": [
    "### 5) Using Match with Option Types"
   ]
  },
  {
   "cell_type": "code",
   "execution_count": 5,
   "metadata": {},
   "outputs": [
    {
     "name": "stdout",
     "output_type": "stream",
     "text": [
      "Hello, ScalaUser!\n"
     ]
    },
    {
     "data": {
      "text/plain": [
       "\u001b[36musername\u001b[39m: \u001b[32mOption\u001b[39m[\u001b[32mString\u001b[39m] = \u001b[33mSome\u001b[39m(value = \u001b[32m\"ScalaUser\"\u001b[39m)\n",
       "\u001b[36mgreeting\u001b[39m: \u001b[32mString\u001b[39m = \u001b[32m\"Hello, ScalaUser!\"\u001b[39m"
      ]
     },
     "execution_count": 5,
     "metadata": {},
     "output_type": "execute_result"
    }
   ],
   "source": [
    "// Using Match with Option Types\n",
    "val username: Option[String] = Some(\"ScalaUser\")\n",
    "\n",
    "val greeting = username match {\n",
    "  case Some(name) => s\"Hello, $name!\"\n",
    "  case None       => \"Hello, Guest!\"\n",
    "}\n",
    "println(greeting)  \n"
   ]
  }
 ],
 "metadata": {
  "kernelspec": {
   "display_name": "Scala",
   "language": "scala",
   "name": "scala"
  },
  "language_info": {
   "codemirror_mode": "text/x-scala",
   "file_extension": ".sc",
   "mimetype": "text/x-scala",
   "name": "scala",
   "nbconvert_exporter": "script",
   "version": "2.13.14"
  }
 },
 "nbformat": 4,
 "nbformat_minor": 2
}

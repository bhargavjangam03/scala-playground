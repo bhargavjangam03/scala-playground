{
 "cells": [
  {
   "cell_type": "markdown",
   "metadata": {},
   "source": [
    "# Multi-Dimensional Arrays\n"
   ]
  },
  {
   "cell_type": "markdown",
   "metadata": {},
   "source": [
    "### 1) Creating Multi-Dimensional Arrays"
   ]
  },
  {
   "cell_type": "code",
   "execution_count": 1,
   "metadata": {},
   "outputs": [
    {
     "name": "stdout",
     "output_type": "stream",
     "text": [
      "Matrix:\n",
      "1, 2, 3\n",
      "4, 5, 6\n",
      "7, 8, 9\n"
     ]
    },
    {
     "data": {
      "text/plain": [
       "\u001b[36mmatrix\u001b[39m: \u001b[32mArray\u001b[39m[\u001b[32mArray\u001b[39m[\u001b[32mInt\u001b[39m]] = \u001b[33mArray\u001b[39m(\n",
       "  \u001b[33mArray\u001b[39m(\u001b[32m1\u001b[39m, \u001b[32m2\u001b[39m, \u001b[32m3\u001b[39m),\n",
       "  \u001b[33mArray\u001b[39m(\u001b[32m4\u001b[39m, \u001b[32m5\u001b[39m, \u001b[32m6\u001b[39m),\n",
       "  \u001b[33mArray\u001b[39m(\u001b[32m7\u001b[39m, \u001b[32m8\u001b[39m, \u001b[32m9\u001b[39m)\n",
       ")"
      ]
     },
     "execution_count": 1,
     "metadata": {},
     "output_type": "execute_result"
    }
   ],
   "source": [
    "// Creating a 2D Array (Matrix)\n",
    "val matrix: Array[Array[Int]] = Array(\n",
    "  Array(1, 2, 3),\n",
    "  Array(4, 5, 6),\n",
    "  Array(7, 8, 9)\n",
    ")\n",
    "\n",
    "println(\"Matrix:\")\n",
    "for (row <- matrix) {\n",
    "  println(row.mkString(\", \"))  // Output: 1, 2, 3 (and so on for each row)\n",
    "}\n"
   ]
  },
  {
   "cell_type": "markdown",
   "metadata": {},
   "source": [
    "### 2) Accessing Elements in Multi-Dimensional Arrays"
   ]
  },
  {
   "cell_type": "code",
   "execution_count": 2,
   "metadata": {},
   "outputs": [
    {
     "name": "stdout",
     "output_type": "stream",
     "text": [
      "First Element: 1\n",
      "Second Element: 6\n"
     ]
    },
    {
     "data": {
      "text/plain": [
       "\u001b[36mfirstElement\u001b[39m: \u001b[32mInt\u001b[39m = \u001b[32m1\u001b[39m\n",
       "\u001b[36msecondElement\u001b[39m: \u001b[32mInt\u001b[39m = \u001b[32m6\u001b[39m"
      ]
     },
     "execution_count": 2,
     "metadata": {},
     "output_type": "execute_result"
    }
   ],
   "source": [
    "// Accessing Elements in a Multi-Dimensional Array\n",
    "val firstElement = matrix(0)(0)  // Accessing element at row 0, column 0\n",
    "val secondElement = matrix(1)(2)  // Accessing element at row 1, column 2\n",
    "println(s\"First Element: $firstElement\")    // Output: First Element: 1\n",
    "println(s\"Second Element: $secondElement\")  // Output: Second Element: 6\n"
   ]
  },
  {
   "cell_type": "markdown",
   "metadata": {},
   "source": [
    "### 3) Modifying Elements in Multi-Dimensional Arrays"
   ]
  },
  {
   "cell_type": "code",
   "execution_count": 3,
   "metadata": {},
   "outputs": [
    {
     "name": "stdout",
     "output_type": "stream",
     "text": [
      "Modified Matrix:\n",
      "1, 2, 3\n",
      "4, 5, 6\n",
      "7, 10, 9\n"
     ]
    }
   ],
   "source": [
    "// Modifying Elements in a Multi-Dimensional Array\n",
    "matrix(2)(1) = 10  // Changing the element at row 2, column 1\n",
    "println(\"Modified Matrix:\")\n",
    "for (row <- matrix) {\n",
    "  println(row.mkString(\", \"))  // Output: 1, 2, 3 (and so on for each row with the modified value)\n",
    "}\n"
   ]
  },
  {
   "cell_type": "markdown",
   "metadata": {},
   "source": [
    "### 4) Iterating Over Multi-Dimensional Arrays"
   ]
  },
  {
   "cell_type": "code",
   "execution_count": 4,
   "metadata": {},
   "outputs": [
    {
     "name": "stdout",
     "output_type": "stream",
     "text": [
      "Elements in Matrix:\n",
      "1 2 3 \n",
      "4 5 6 \n",
      "7 10 9 \n"
     ]
    }
   ],
   "source": [
    "// Iterating Over a Multi-Dimensional Array\n",
    "println(\"Elements in Matrix:\")\n",
    "for (i <- 0 until matrix.length) {       // Iterate through rows\n",
    "  for (j <- 0 until matrix(i).length) {  // Iterate through columns\n",
    "    print(s\"${matrix(i)(j)} \")           // Output: 1 2 3 4 5 6 7 8 9 (all elements)\n",
    "  }\n",
    "  println()  // New line after each row\n",
    "}\n"
   ]
  },
  {
   "cell_type": "markdown",
   "metadata": {},
   "source": [
    "### 5) Multi-Dimensional Arrays with Different Dimensions"
   ]
  },
  {
   "cell_type": "code",
   "execution_count": 5,
   "metadata": {},
   "outputs": [
    {
     "name": "stdout",
     "output_type": "stream",
     "text": [
      "Jagged Array:\n",
      "1, 2\n",
      "3, 4, 5\n",
      "6, 7, 8, 9\n"
     ]
    },
    {
     "data": {
      "text/plain": [
       "\u001b[36mjaggedArray\u001b[39m: \u001b[32mArray\u001b[39m[\u001b[32mArray\u001b[39m[\u001b[32mInt\u001b[39m]] = \u001b[33mArray\u001b[39m(\n",
       "  \u001b[33mArray\u001b[39m(\u001b[32m1\u001b[39m, \u001b[32m2\u001b[39m),\n",
       "  \u001b[33mArray\u001b[39m(\u001b[32m3\u001b[39m, \u001b[32m4\u001b[39m, \u001b[32m5\u001b[39m),\n",
       "  \u001b[33mArray\u001b[39m(\u001b[32m6\u001b[39m, \u001b[32m7\u001b[39m, \u001b[32m8\u001b[39m, \u001b[32m9\u001b[39m)\n",
       ")"
      ]
     },
     "execution_count": 5,
     "metadata": {},
     "output_type": "execute_result"
    }
   ],
   "source": [
    "// Creating a Jagged Array\n",
    "val jaggedArray: Array[Array[Int]] = Array(\n",
    "  Array(1, 2),\n",
    "  Array(3, 4, 5),\n",
    "  Array(6, 7, 8, 9)\n",
    ")\n",
    "\n",
    "println(\"Jagged Array:\")\n",
    "for (row <- jaggedArray) {\n",
    "  println(row.mkString(\", \"))  // Output: 1, 2 (and so on for each row)\n",
    "}\n"
   ]
  },
  {
   "cell_type": "markdown",
   "metadata": {},
   "source": [
    "### 6) Common Operations on Multi-Dimensional Arrays"
   ]
  },
  {
   "cell_type": "code",
   "execution_count": 6,
   "metadata": {},
   "outputs": [
    {
     "name": "stdout",
     "output_type": "stream",
     "text": [
      "Transposed Matrix:\n",
      "1, 4, 7\n",
      "2, 5, 10\n",
      "3, 6, 9\n"
     ]
    },
    {
     "data": {
      "text/plain": [
       "defined \u001b[32mfunction\u001b[39m \u001b[36mtranspose\u001b[39m\n",
       "\u001b[36mtransposedMatrix\u001b[39m: \u001b[32mArray\u001b[39m[\u001b[32mArray\u001b[39m[\u001b[32mInt\u001b[39m]] = \u001b[33mArray\u001b[39m(\n",
       "  \u001b[33mArray\u001b[39m(\u001b[32m1\u001b[39m, \u001b[32m4\u001b[39m, \u001b[32m7\u001b[39m),\n",
       "  \u001b[33mArray\u001b[39m(\u001b[32m2\u001b[39m, \u001b[32m5\u001b[39m, \u001b[32m10\u001b[39m),\n",
       "  \u001b[33mArray\u001b[39m(\u001b[32m3\u001b[39m, \u001b[32m6\u001b[39m, \u001b[32m9\u001b[39m)\n",
       ")"
      ]
     },
     "execution_count": 6,
     "metadata": {},
     "output_type": "execute_result"
    }
   ],
   "source": [
    "// Transposing a Matrix\n",
    "def transpose(matrix: Array[Array[Int]]): Array[Array[Int]] = {\n",
    "  val rows = matrix.length\n",
    "  val cols = matrix(0).length\n",
    "  val transposed = Array.ofDim[Int](cols, rows)  // Create a new matrix with transposed dimensions\n",
    "  \n",
    "  for (i <- 0 until rows) {\n",
    "    for (j <- 0 until cols) {\n",
    "      transposed(j)(i) = matrix(i)(j)  // Transpose elements\n",
    "    }\n",
    "  }\n",
    "  transposed\n",
    "}\n",
    "\n",
    "// Testing the Transpose Function\n",
    "val transposedMatrix = transpose(matrix)\n",
    "println(\"Transposed Matrix:\")\n",
    "for (row <- transposedMatrix) {\n",
    "  println(row.mkString(\", \"))  // Output: 1, 4, 7 (and so on for each row)\n",
    "}\n"
   ]
  }
 ],
 "metadata": {
  "kernelspec": {
   "display_name": "Scala",
   "language": "scala",
   "name": "scala"
  },
  "language_info": {
   "codemirror_mode": "text/x-scala",
   "file_extension": ".sc",
   "mimetype": "text/x-scala",
   "name": "scala",
   "nbconvert_exporter": "script",
   "version": "2.13.14"
  }
 },
 "nbformat": 4,
 "nbformat_minor": 2
}

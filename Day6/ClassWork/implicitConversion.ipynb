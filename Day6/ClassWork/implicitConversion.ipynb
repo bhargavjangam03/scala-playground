{
 "cells": [
  {
   "cell_type": "code",
   "execution_count": 1,
   "metadata": {},
   "outputs": [
    {
     "data": {
      "text/plain": [
       "\u001b[32mimport \u001b[39m\u001b[36mscala.collection.mutable.ListBuffer\u001b[39m\n",
       "defined \u001b[32mclass\u001b[39m \u001b[36mStudent\u001b[39m\n",
       "\u001b[36mstudents\u001b[39m: \u001b[32mListBuffer\u001b[39m[\u001b[32mStudent\u001b[39m] = \u001b[33mListBuffer\u001b[39m(\n",
       "  \u001b[33mStudent\u001b[39m(sno = \u001b[32m1\u001b[39m, name = \u001b[32m\"A\"\u001b[39m, score = \u001b[32m70\u001b[39m),\n",
       "  \u001b[33mStudent\u001b[39m(sno = \u001b[32m2\u001b[39m, name = \u001b[32m\"B\"\u001b[39m, score = \u001b[32m100\u001b[39m),\n",
       "  \u001b[33mStudent\u001b[39m(sno = \u001b[32m3\u001b[39m, name = \u001b[32m\"C\"\u001b[39m, score = \u001b[32m60\u001b[39m),\n",
       "  \u001b[33mStudent\u001b[39m(sno = \u001b[32m4\u001b[39m, name = \u001b[32m\"D\"\u001b[39m, score = \u001b[32m90\u001b[39m),\n",
       "  \u001b[33mStudent\u001b[39m(sno = \u001b[32m5\u001b[39m, name = \u001b[32m\"E\"\u001b[39m, score = \u001b[32m55\u001b[39m),\n",
       "  \u001b[33mStudent\u001b[39m(sno = \u001b[32m6\u001b[39m, name = \u001b[32m\"F\"\u001b[39m, score = \u001b[32m37\u001b[39m)\n",
       ")"
      ]
     },
     "execution_count": 1,
     "metadata": {},
     "output_type": "execute_result"
    }
   ],
   "source": [
    "import scala.collection.mutable.ListBuffer\n",
    "case class Student(sno: Int, name: String, score: Int)\n",
    "val students: ListBuffer[Student] = ListBuffer(\n",
    "    Student(1, \"A\", 70),\n",
    "    Student(2, \"B\", 100),\n",
    "    Student(3, \"C\", 60),\n",
    "    Student(4, \"D\", 90),\n",
    "    Student(5, \"E\", 55),\n",
    "    Student(6, \"F\", 37)\n",
    ")"
   ]
  },
  {
   "cell_type": "code",
   "execution_count": 7,
   "metadata": {},
   "outputs": [
    {
     "data": {
      "text/plain": [
       "\u001b[32mimport \u001b[39m\u001b[36mscala.language.implicitConversions\u001b[39m\n",
       "defined \u001b[32mfunction\u001b[39m \u001b[36mtupleToStudent\u001b[39m\n",
       "defined \u001b[32mclass\u001b[39m \u001b[36mstudentOps\u001b[39m\n",
       "\u001b[36mstudentsGreaterThan70\u001b[39m: \u001b[32mListBuffer\u001b[39m[\u001b[32mStudent\u001b[39m] = \u001b[33mListBuffer\u001b[39m(\n",
       "  \u001b[33mStudent\u001b[39m(sno = \u001b[32m2\u001b[39m, name = \u001b[32m\"B\"\u001b[39m, score = \u001b[32m100\u001b[39m),\n",
       "  \u001b[33mStudent\u001b[39m(sno = \u001b[32m4\u001b[39m, name = \u001b[32m\"D\"\u001b[39m, score = \u001b[32m90\u001b[39m),\n",
       "  \u001b[33mStudent\u001b[39m(sno = \u001b[32m8\u001b[39m, name = \u001b[32m\"H\"\u001b[39m, score = \u001b[32m85\u001b[39m),\n",
       "  \u001b[33mStudent\u001b[39m(sno = \u001b[32m8\u001b[39m, name = \u001b[32m\"H\"\u001b[39m, score = \u001b[32m85\u001b[39m)\n",
       ")\n",
       "\u001b[36mstudentsLessThan60\u001b[39m: \u001b[32mListBuffer\u001b[39m[\u001b[32mStudent\u001b[39m] = \u001b[33mListBuffer\u001b[39m(\n",
       "  \u001b[33mStudent\u001b[39m(sno = \u001b[32m5\u001b[39m, name = \u001b[32m\"E\"\u001b[39m, score = \u001b[32m55\u001b[39m),\n",
       "  \u001b[33mStudent\u001b[39m(sno = \u001b[32m6\u001b[39m, name = \u001b[32m\"F\"\u001b[39m, score = \u001b[32m37\u001b[39m),\n",
       "  \u001b[33mStudent\u001b[39m(sno = \u001b[32m7\u001b[39m, name = \u001b[32m\"G\"\u001b[39m, score = \u001b[32m45\u001b[39m),\n",
       "  \u001b[33mStudent\u001b[39m(sno = \u001b[32m7\u001b[39m, name = \u001b[32m\"G\"\u001b[39m, score = \u001b[32m45\u001b[39m),\n",
       "  \u001b[33mStudent\u001b[39m(sno = \u001b[32m7\u001b[39m, name = \u001b[32m\"G\"\u001b[39m, score = \u001b[32m45\u001b[39m)\n",
       ")"
      ]
     },
     "execution_count": 7,
     "metadata": {},
     "output_type": "execute_result"
    }
   ],
   "source": [
    "import scala.language.implicitConversions\n",
    "implicit def tupleToStudent(t:(Int,String,Int)): Student = {\n",
    "  Student(t._1,t._2,t._3)\n",
    "}\n",
    "\n",
    "// implicit def studentToTuple(student: Student): (Int, String, Int) = (student.sno, student.name, student.score)\n",
    "\n",
    "implicit class studentOps(studentList: ListBuffer[Student]) {\n",
    "  def %>(score: Int): ListBuffer[Student] = {\n",
    "    studentList.filter(x => x.score > score)\n",
    "  }\n",
    "  def %<(score: Int): ListBuffer[Student] = {\n",
    "    studentList.filter(x => x.score < score)\n",
    "  }\n",
    "  \n",
    "  def add(student: Student): Unit = {\n",
    "    studentList += student\n",
    "  }\n",
    "  \n",
    "  // Method to filter students based on a score\n",
    "  def filterStudents(score: Int, greaterThan: Boolean): ListBuffer[Student] = {\n",
    "    if (greaterThan) studentList.filter(_.score > score)\n",
    "    else studentList.filter(_.score < score)\n",
    "\n",
    "}\n",
    "}\n",
    "\n",
    "val studentsGreaterThan70 = students %> 70\n",
    "val studentsLessThan60 = students %< 60\n",
    "\n",
    "// Adding a new Student instance\n",
    "students.add(Student(7, \"G\", 45))\n",
    "\n",
    "// Adding a new student using a tuple\n",
    "students.add((8, \"H\", 85))"
   ]
  },
  {
   "cell_type": "code",
   "execution_count": 3,
   "metadata": {},
   "outputs": [
    {
     "name": "stdout",
     "output_type": "stream",
     "text": [
      "Student Details: SNo = 3, Name = Charlie, Score = 80\n"
     ]
    },
    {
     "data": {
      "text/plain": [
       "defined \u001b[32mfunction\u001b[39m \u001b[36mprintStudentDetails\u001b[39m\n",
       "\u001b[36mstudentImplicit\u001b[39m: \u001b[32mStudent\u001b[39m = \u001b[33mStudent\u001b[39m(sno = \u001b[32m3\u001b[39m, name = \u001b[32m\"Charlie\"\u001b[39m, score = \u001b[32m80\u001b[39m)"
      ]
     },
     "execution_count": 3,
     "metadata": {},
     "output_type": "execute_result"
    }
   ],
   "source": [
    "// If there are multiple implicit values of the same type (Student in this case) in the same scope, \n",
    "// the Scala compiler will not know which one to use and will throw a compilation error indicating \n",
    "// an \"ambiguous implicit values\" issue. Scala’s implicit resolution works only when it finds exactly one matching implicit in scope.\n",
    "// If there are multiple implicit values ,the we have to provide input for the function\n",
    "\n",
    "\n",
    "def printStudentDetails(implicit student: Student): Unit = {\n",
    "  println(s\"Student Details: SNo = ${student.sno}, Name = ${student.name}, Score = ${student.score}\")\n",
    "}\n",
    "\n",
    "implicit val studentImplicit: Student = Student(3, \"Charlie\", 80)\n",
    "// implicit val studentImplicit_2: Student = Student(4, \"Denver\", 98)\n",
    "printStudentDetails // Output: Student Details: SNo = 3, Name = Charlie, Score = 80\n"
   ]
  },
  {
   "cell_type": "code",
   "execution_count": 4,
   "metadata": {},
   "outputs": [
    {
     "data": {
      "text/plain": [
       "\u001b[36mstudentsArray\u001b[39m: \u001b[32mArray\u001b[39m[\u001b[32mStudent\u001b[39m] = \u001b[33mArray\u001b[39m(\n",
       "  \u001b[33mStudent\u001b[39m(sno = \u001b[32m9\u001b[39m, name = \u001b[32m\"I\"\u001b[39m, score = \u001b[32m90\u001b[39m),\n",
       "  \u001b[33mStudent\u001b[39m(sno = \u001b[32m10\u001b[39m, name = \u001b[32m\"J\"\u001b[39m, score = \u001b[32m45\u001b[39m),\n",
       "  \u001b[33mStudent\u001b[39m(sno = \u001b[32m11\u001b[39m, name = \u001b[32m\"K\"\u001b[39m, score = \u001b[32m85\u001b[39m)\n",
       ")\n",
       "defined \u001b[32mclass\u001b[39m \u001b[36mScoreBasedFilterArray\u001b[39m\n",
       "\u001b[36mfilteredArray\u001b[39m: \u001b[32mArray\u001b[39m[\u001b[32mStudent\u001b[39m] = \u001b[33mArray\u001b[39m(\u001b[33mStudent\u001b[39m(sno = \u001b[32m10\u001b[39m, name = \u001b[32m\"J\"\u001b[39m, score = \u001b[32m45\u001b[39m))"
      ]
     },
     "execution_count": 4,
     "metadata": {},
     "output_type": "execute_result"
    }
   ],
   "source": [
    "val studentsArray: Array[Student] = Array(\n",
    "  Student(9, \"I\", 90),\n",
    "  Student(10, \"J\", 45),\n",
    "  Student(11, \"K\", 85)\n",
    ")\n",
    "\n",
    "// New implicit class for Array operations\n",
    "implicit class ScoreBasedFilterArray(studentArray: Array[Student]) {\n",
    "  def filterRecords(x: Student => Boolean): Array[Student] = {\n",
    "        studentArray.collect{ case student: Student if x(student) == true => student }\n",
    "    }\n",
    "}\n",
    "\n",
    "val filteredArray = studentsArray.filterRecords(x => x.score == 45)"
   ]
  },
  {
   "cell_type": "code",
   "execution_count": 12,
   "metadata": {},
   "outputs": [
    {
     "name": "stderr",
     "output_type": "stream",
     "text": [
      "cmd12.sc:21: constructor cannot be instantiated to expected type;\n",
      " found   : (T1, T2, T3)\n",
      " required: cmd12.this.cmd1.Student\n",
      "  for ((id, name, score) <- records) {\n",
      "       ^\n",
      "cmd12.sc:23: type mismatch;\n",
      " found   : Any\n",
      " required: Int\n",
      "    students += Student(id, name, score)\n",
      "                        ^\n",
      "cmd12.sc:23: type mismatch;\n",
      " found   : Any\n",
      " required: String\n",
      "    students += Student(id, name, score)\n",
      "                            ^\n",
      "cmd12.sc:23: type mismatch;\n",
      " found   : Any\n",
      " required: Int\n",
      "    students += Student(id, name, score)\n",
      "                                  ^\n",
      "Compilation Failed"
     ]
    }
   ],
   "source": [
    "import scala.language.implicitConversions\n",
    "import scala.collection.mutable.ListBuffer\n",
    "\n",
    "val records = Array(\n",
    "  (1, \"Alice\", 85), (2, \"Bob\", 92), (3, \"Charlie\", 78), (4, \"David\", 66), (5, \"Eve\", 90),\n",
    "  (6, \"Frank\", 73), (7, \"Grace\", 88), (8, \"Hannah\", 91), (9, \"Isaac\", 84), (10, \"Judy\", 76),\n",
    "  (11, \"Kevin\", 82), (12, \"Laura\", 79), (13, \"Mike\", 95), (14, \"Nina\", 70), (15, \"Oscar\", 89),\n",
    "  (16, \"Paul\", 80), (17, \"Quinn\", 77), (18, \"Rachel\", 93), (19, \"Sam\", 85), (20, \"Tina\", 74),\n",
    "  (21, \"Uma\", 69), (22, \"Victor\", 96), (23, \"Wendy\", 87), (24, \"Xander\", 68), (25, \"Yara\", 94),\n",
    "  (26, \"Zane\", 81), (27, \"Oliver\", 78), (28, \"Sophia\", 85), (29, \"Liam\", 90), (30, \"Mia\", 83),\n",
    "  (31, \"Noah\", 88), (32, \"Emma\", 75), (33, \"Ava\", 92), (34, \"William\", 86), (35, \"James\", 91),\n",
    "  (36, \"Lucas\", 72), (37, \"Amelia\", 79), (38, \"Ella\", 89), (39, \"Mason\", 76), (40, \"Logan\", 95),\n",
    "  (41, \"Ethan\", 84), (42, \"Charlotte\", 82), (43, \"Benjamin\", 80), (44, \"Alexander\", 71),\n",
    "  (45, \"Michael\", 88), (46, \"Isabella\", 73), (47, \"Daniel\", 86), (48, \"Elijah\", 81),\n",
    "  (49, \"Matthew\", 79), (50, \"Jackson\", 92)\n",
    ")\n",
    "\n",
    "// Implicit conversion from Array of Tuples to ListBuffer of Students\n",
    "implicit def arrayToListBuffer(records: Array[(Int, String, Int)]): ListBuffer[Student] = {\n",
    "  val students: ListBuffer[Student] = ListBuffer()\n",
    "  for ((id, name, score) <- records) {\n",
    "  \n",
    "    students += Student(id, name, score)\n",
    "  }\n",
    "  students\n",
    "}\n",
    "\n",
    "// Convert the records to ListBuffer[Student]\n",
    "val studentListBuffer: ListBuffer[Student] = records // This triggers the implicit conversion\n",
    "\n",
    "// Filter students with a score >= 45\n",
    "val filteredArray_2 = studentListBuffer.filter(student => student.score >= 45)\n",
    "\n",
    "// Print the filtered students\n",
    "filteredArray_2.foreach(println)\n",
    "\n",
    "\n",
    "\n",
    "\n",
    "// // Implicit conversion from Array of Tuples to ListBuffer of Students\n",
    "// implicit def arrayToListBuffer(records: Array[Student]): ListBuffer[Student] = {\n",
    "//   ListBuffer(records: _*)\n",
    "// }\n",
    "  \n",
    "\n",
    "\n",
    "// val result: ListBuffer[Student] = records \n",
    "\n",
    "// Now we can use the implicit conversion to filter students\n",
    "// val filteredStudentsAbove80: ListBuffer[Student] = records.filterStudents(80, greaterThan = true) // Implicit conversion applied\n",
    "// val filteredStudentsBelow60: ListBuffer[Student] = records.filterStudents(70, greaterThan = false) // Less than 60\n",
    "\n",
    "// // Print the filtered lists to verify the results\n",
    "// println(\"Students above 80:\")\n",
    "// println(filteredStudentsAbove80)\n",
    "\n",
    "// println(\"Students below 60:\")\n",
    "// println(filteredStudentsBelow60)\n",
    "\n",
    "\n",
    "\n",
    "\n"
   ]
  }
 ],
 "metadata": {
  "kernelspec": {
   "display_name": "Scala",
   "language": "scala",
   "name": "scala"
  },
  "language_info": {
   "codemirror_mode": "text/x-scala",
   "file_extension": ".sc",
   "mimetype": "text/x-scala",
   "name": "scala",
   "nbconvert_exporter": "script",
   "version": "2.13.14"
  }
 },
 "nbformat": 4,
 "nbformat_minor": 2
}

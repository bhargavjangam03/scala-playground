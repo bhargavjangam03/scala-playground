{
 "cells": [
  {
   "cell_type": "code",
   "execution_count": 1,
   "metadata": {},
   "outputs": [
    {
     "name": "stdout",
     "output_type": "stream",
     "text": [
      "Process main has started\n",
      "Process new_main has started\n",
      "class ammonite.$sess.cmd1$Helper$$Lambda/0x00000ffe01215a48class ammonite.$sess.cmd1$Helper$$Lambda/0x00000ffe0183e000"
     ]
    },
    {
     "data": {
      "text/plain": [
       "defined \u001b[32mfunction\u001b[39m \u001b[36mprocess\u001b[39m\n",
       "\u001b[36mtarget\u001b[39m: \u001b[32mString\u001b[39m => \u001b[32mString\u001b[39m = ammonite.$sess.cmd1$Helper$$Lambda/0x00000ffe01215a48@1e7789c7\n",
       "\u001b[36mnew_target\u001b[39m: \u001b[32mString\u001b[39m => \u001b[32mString\u001b[39m = ammonite.$sess.cmd1$Helper$$Lambda/0x00000ffe0183e000@65bc08ab"
      ]
     },
     "execution_count": 1,
     "metadata": {},
     "output_type": "execute_result"
    }
   ],
   "source": [
    "def process(x: String):String = s\"Process $x has started\"\n",
    "\n",
    "val target = process _   //type is inferred\n",
    "\n",
    "val new_target:(String) => String = process  //copied type is specified\n",
    "\n",
    "\n",
    "println(target(\"main\"))\n",
    "println(new_target(\"new_main\"))\n",
    "print(target.getClass)\n",
    "print(new_target.getClass)"
   ]
  },
  {
   "cell_type": "code",
   "execution_count": 2,
   "metadata": {},
   "outputs": [
    {
     "data": {
      "text/plain": [
       "defined \u001b[32mfunction\u001b[39m \u001b[36mfuncAsParam\u001b[39m"
      ]
     },
     "execution_count": 2,
     "metadata": {},
     "output_type": "execute_result"
    }
   ],
   "source": [
    "def funcAsParam(times:Int,  method:(String)=>Unit) = {\n",
    "    println(\"starting\")\n",
    "    for (i<-1 to times){\n",
    "        println(\"In the original functional call\")\n",
    "        method(\"India\")\n",
    "        println(\"Back to the original call\")\n",
    "    }\n",
    "    println(\"done\")\n",
    "}\n"
   ]
  },
  {
   "cell_type": "code",
   "execution_count": 3,
   "metadata": {},
   "outputs": [
    {
     "name": "stdout",
     "output_type": "stream",
     "text": [
      "starting\n",
      "In the original functional call\n",
      "User is in country India\n",
      "Back to the original call\n",
      "In the original functional call\n",
      "User is in country India\n",
      "Back to the original call\n",
      "In the original functional call\n",
      "User is in country India\n",
      "Back to the original call\n",
      "done\n",
      "starting\n",
      "In the original functional call\n",
      "User is leaving India\n",
      "Back to the original call\n",
      "In the original functional call\n",
      "User is leaving India\n",
      "Back to the original call\n",
      "done\n"
     ]
    },
    {
     "data": {
      "text/plain": [
       "defined \u001b[32mfunction\u001b[39m \u001b[36mgetData\u001b[39m"
      ]
     },
     "execution_count": 3,
     "metadata": {},
     "output_type": "execute_result"
    }
   ],
   "source": [
    "def getData(data: String): Unit = {\n",
    "    println(s\"User is in country $data\")\n",
    "}\n",
    "\n",
    "funcAsParam(3,getData)\n",
    "funcAsParam(2,(x:String)=>println(s\"User is leaving $x\"))"
   ]
  },
  {
   "cell_type": "code",
   "execution_count": 4,
   "metadata": {},
   "outputs": [
    {
     "data": {
      "text/plain": [
       "defined \u001b[32mfunction\u001b[39m \u001b[36mfilterIt\u001b[39m"
      ]
     },
     "execution_count": 4,
     "metadata": {},
     "output_type": "execute_result"
    }
   ],
   "source": [
    "def filterIt(elements:Array[Int],logic: Int=>Boolean):Array[Int]={\n",
    "    var a: Int = 0;\n",
    "    var count: Int=0;\n",
    "    for (data<-elements){\n",
    "        if(logic(data)){\n",
    "            count+=1\n",
    "        }\n",
    "    }\n",
    "    val arr=Array.fill(count)(0)\n",
    "    for(data<-elements){\n",
    "        if(logic(data)){\n",
    "            arr(a)=data \n",
    "            a+=1\n",
    "        }\n",
    "    }\n",
    "    return arr\n",
    "}"
   ]
  },
  {
   "cell_type": "code",
   "execution_count": 5,
   "metadata": {},
   "outputs": [
    {
     "name": "stdout",
     "output_type": "stream",
     "text": [
      "printing result\n",
      "36->7272->363->\n",
      "printing new_result\n",
      "363->181->"
     ]
    },
    {
     "data": {
      "text/plain": [
       "\u001b[36mnumarray\u001b[39m: \u001b[32mArray\u001b[39m[\u001b[32mInt\u001b[39m] = \u001b[33mArray\u001b[39m(\u001b[32m36\u001b[39m, \u001b[32m782\u001b[39m, \u001b[32m7272\u001b[39m, \u001b[32m363\u001b[39m, \u001b[32m181\u001b[39m, \u001b[32m929\u001b[39m)\n",
       "\u001b[36mresult\u001b[39m: \u001b[32mArray\u001b[39m[\u001b[32mInt\u001b[39m] = \u001b[33mArray\u001b[39m(\u001b[32m36\u001b[39m, \u001b[32m7272\u001b[39m, \u001b[32m363\u001b[39m)\n",
       "\u001b[36mnew_result\u001b[39m: \u001b[32mArray\u001b[39m[\u001b[32mInt\u001b[39m] = \u001b[33mArray\u001b[39m(\u001b[32m363\u001b[39m, \u001b[32m181\u001b[39m)"
      ]
     },
     "execution_count": 5,
     "metadata": {},
     "output_type": "execute_result"
    }
   ],
   "source": [
    "val numarray: Array[Int] = Array(36,782,7272,363,181,929)\n",
    "val result:Array[Int]=filterIt(numarray,(x)=> (x%3==0))\n",
    "val new_result:Array[Int]=filterIt(numarray,(x)=> (x>=100) && (x<=500))\n",
    "println(\"printing result\")\n",
    "for(x<-result){\n",
    "    print(s\"$x->\")\n",
    "}\n",
    "println()\n",
    "println(\"printing new_result\")\n",
    "for(x<-new_result){\n",
    "    print(s\"$x->\")\n",
    "}"
   ]
  }
 ],
 "metadata": {
  "kernelspec": {
   "display_name": "Scala",
   "language": "scala",
   "name": "scala"
  },
  "language_info": {
   "codemirror_mode": "text/x-scala",
   "file_extension": ".sc",
   "mimetype": "text/x-scala",
   "name": "scala",
   "nbconvert_exporter": "script",
   "version": "2.13.14"
  }
 },
 "nbformat": 4,
 "nbformat_minor": 2
}
